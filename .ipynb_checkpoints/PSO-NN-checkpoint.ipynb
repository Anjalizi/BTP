{
 "cells": [
  {
   "cell_type": "code",
   "execution_count": 1,
   "metadata": {},
   "outputs": [],
   "source": [
    "# Import modules\n",
    "import numpy as np\n",
    "import matplotlib.pyplot as plt\n",
    "import pandas as pd\n",
    "from sklearn import model_selection\n",
    "\n",
    "# Import PySwarms\n",
    "import pyswarms as ps\n",
    "\n",
    "# Some more magic so that the notebook will reload external python modules;\n",
    "# see http://stackoverflow.com/questions/1907993/autoreload-of-modules-in-ipython\n",
    "%reload_ext autoreload\n",
    "%autoreload 2"
   ]
  },
  {
   "cell_type": "code",
   "execution_count": 2,
   "metadata": {},
   "outputs": [
    {
     "data": {
      "text/plain": [
       "Index(['name', 'MDVP:Fo(Hz)', 'MDVP:Fhi(Hz)', 'MDVP:Flo(Hz)', 'MDVP:Jitter(%)',\n",
       "       'MDVP:Jitter(Abs)', 'MDVP:RAP', 'MDVP:PPQ', 'Jitter:DDP',\n",
       "       'MDVP:Shimmer', 'MDVP:Shimmer(dB)', 'Shimmer:APQ3', 'Shimmer:APQ5',\n",
       "       'MDVP:APQ', 'Shimmer:DDA', 'NHR', 'HNR', 'status', 'RPDE', 'DFA',\n",
       "       'spread1', 'spread2', 'D2', 'PPE'],\n",
       "      dtype='object')"
      ]
     },
     "execution_count": 2,
     "metadata": {},
     "output_type": "execute_result"
    }
   ],
   "source": [
    "data = pd.read_csv('parkinsons.csv', delimiter=',')\n",
    "data.columns"
   ]
  },
  {
   "cell_type": "code",
   "execution_count": 3,
   "metadata": {},
   "outputs": [
    {
     "data": {
      "text/plain": [
       "dtype('float64')"
      ]
     },
     "execution_count": 3,
     "metadata": {},
     "output_type": "execute_result"
    }
   ],
   "source": [
    "# Store the features as X and the labels as y\n",
    "X = data.drop(columns=['name', 'status']).values\n",
    "y = data['status'].values\n",
    "data.columns\n",
    "X.dtype\n",
    "\n",
    "# 2. four best features as per mid sems\n",
    "# X = data[['HNR','RPDE','DFA','PPE']].to_numpy()\n",
    "# X.shape\n",
    "\n",
    "# # 3. Two-factor components analysis as in file:///home/punny/Downloads/parkinson--published-IJSS%20(1).pdf\n",
    "# X = data[['MDVP:PPQ', 'MDVP:Shimmer', 'MDVP:Shimmer(dB)', 'Shimmer:APQ3', 'Shimmer:APQ5', 'MDVP:APQ','Shimmer:DDA']].to_numpy()\n",
    "# X.shape\n",
    "\n",
    "# # 4. 2nd best Two-factor components analysis\n",
    "# X = data[['MDVP:Jitter(%)','MDVP:Jitter(Abs)', 'MDVP:RAP', 'PPE', 'Jitter:DDP','NHR']].to_numpy()\n",
    "# X.shape"
   ]
  },
  {
   "cell_type": "code",
   "execution_count": 4,
   "metadata": {},
   "outputs": [],
   "source": [
    "# 60% training set and 40% testing set\n",
    "x_train, x_test, y_train, y_test = model_selection.train_test_split (X, y, test_size=0.33, random_state=0)"
   ]
  },
  {
   "cell_type": "code",
   "execution_count": 5,
   "metadata": {},
   "outputs": [],
   "source": [
    "def sigmoid(Z):\n",
    "    return 1/(1+np.exp(-Z))\n",
    "\n",
    "def relu(Z):\n",
    "    return np.maximum(0,Z)\n",
    "\n",
    "def sigmoid_backward(dA, Z):\n",
    "    sig = sigmoid(Z)\n",
    "    return dA * sig * (1 - sig)\n",
    "\n",
    "def relu_backward(dA, Z):\n",
    "    dZ = np.array(dA, copy = True)\n",
    "    dZ[Z <= 0] = 0;\n",
    "    return dZ;"
   ]
  },
  {
   "cell_type": "code",
   "execution_count": 6,
   "metadata": {},
   "outputs": [
    {
     "name": "stdout",
     "output_type": "stream",
     "text": [
      "(195, 22)\n",
      "(195,)\n"
     ]
    }
   ],
   "source": [
    "print(X.shape)\n",
    "print(y.shape)\n",
    "\n",
    "n_inputs_val = X.shape[1]\n",
    "n_hidden_val = 4\n",
    "# activation_func= np.tanh(z1)"
   ]
  },
  {
   "cell_type": "code",
   "execution_count": 7,
   "metadata": {},
   "outputs": [],
   "source": [
    "# Forward propagation\n",
    "def forward_prop(params):\n",
    "    \"\"\"Forward propagation as objective function\n",
    "\n",
    "    This computes for the forward propagation of the neural network, as\n",
    "    well as the loss. It receives a set of parameters that must be\n",
    "    rolled-back into the corresponding weights and biases.\n",
    "\n",
    "    Inputs\n",
    "    ------\n",
    "    params: np.ndarray\n",
    "        The dimensions should include an unrolled version of the\n",
    "        weights and biases.\n",
    "\n",
    "    Returns\n",
    "    -------\n",
    "    float\n",
    "        The computed negative log-likelihood loss given the parameters\n",
    "    \"\"\"\n",
    "    # Neural network architecture\n",
    "    n_inputs = n_inputs_val\n",
    "    n_hidden = n_hidden_val\n",
    "    n_classes = 2\n",
    "    \n",
    "    a1 = n_inputs_val * n_hidden_val\n",
    "    a2 = a1 + n_hidden_val\n",
    "    a3 = a2 + (n_hidden_val * n_classes)\n",
    "    a4 = a3 + n_classes\n",
    "    \n",
    "    # Roll-back the weights and biases\n",
    "    W1 = params[0:a1].reshape((n_inputs,n_hidden))\n",
    "    b1 = params[a1:a2].reshape((n_hidden,))\n",
    "    W2 = params[a2:a3].reshape((n_hidden,n_classes))\n",
    "    b2 = params[a3:a4].reshape((n_classes,))\n",
    "\n",
    "    # Perform forward propagation\n",
    "    z1 = x_train.dot(W1) + b1  # Pre-activation in Layer 1\n",
    "    a1 = sigmoid(z1)     # Activation in Layer 1\n",
    "    z2 = a1.dot(W2) + b2 # Pre-activation in Layer 2\n",
    "    logits = z2          # Logits for Layer 2\n",
    "\n",
    "    # Compute for the softmax of the logits\n",
    "    exp_scores = np.exp(logits)\n",
    "    probs = exp_scores / np.sum(exp_scores, axis=1, keepdims=True)\n",
    "\n",
    "    # Compute for the negative log likelihood\n",
    "    N = x_train.shape[0] # Number of samples\n",
    "    corect_logprobs = -np.log(probs[range(N), y_train])\n",
    "    loss = np.sum(corect_logprobs) / N\n",
    "\n",
    "    return loss"
   ]
  },
  {
   "cell_type": "code",
   "execution_count": 8,
   "metadata": {},
   "outputs": [],
   "source": [
    "def f(x):\n",
    "    \"\"\"Higher-level method to do forward_prop in the\n",
    "    whole swarm.\n",
    "\n",
    "    Inputs\n",
    "    ------\n",
    "    x: numpy.ndarray of shape (n_particles, dimensions)\n",
    "        The swarm that will perform the search\n",
    "\n",
    "    Returns\n",
    "    -------\n",
    "    numpy.ndarray of shape (n_particles, )\n",
    "        The computed loss for each particle\n",
    "    \"\"\"\n",
    "    n_particles = x.shape[0]\n",
    "    j = [forward_prop(x[i]) for i in range(n_particles)]\n",
    "    return np.array(j)"
   ]
  },
  {
   "cell_type": "code",
   "execution_count": 9,
   "metadata": {},
   "outputs": [
    {
     "name": "stderr",
     "output_type": "stream",
     "text": [
      "2020-04-23 12:36:00,566 - pyswarms.single.global_best - INFO - Optimize for 1000 iters with {'c1': 0.5, 'c2': 0.3, 'w': 0.9}\n",
      "pyswarms.single.global_best:   0%|          |5/1000, best_cost=0.571/usr/local/lib/python3.6/dist-packages/ipykernel_launcher.py:2: RuntimeWarning: overflow encountered in exp\n",
      "  \n",
      "pyswarms.single.global_best:  70%|███████   |701/1000, best_cost=0.402/usr/local/lib/python3.6/dist-packages/ipykernel_launcher.py:43: RuntimeWarning: overflow encountered in exp\n",
      "/usr/local/lib/python3.6/dist-packages/ipykernel_launcher.py:44: RuntimeWarning: invalid value encountered in true_divide\n",
      "/home/anjali/.local/lib/python3.6/site-packages/pyswarms/backend/operators.py:66: RuntimeWarning: invalid value encountered in less\n",
      "  mask_cost = swarm.current_cost < swarm.pbest_cost\n",
      "pyswarms.single.global_best:  79%|███████▉  |792/1000, best_cost=0.402/usr/local/lib/python3.6/dist-packages/ipykernel_launcher.py:48: RuntimeWarning: divide by zero encountered in log\n",
      "pyswarms.single.global_best: 100%|██████████|1000/1000, best_cost=0.4 \n",
      "2020-04-23 12:36:10,908 - pyswarms.single.global_best - INFO - Optimization finished | best cost: 0.4004573451132314, best pos: [  3.46088603e-01  -2.48185949e-02  -2.99333708e-02   3.00221626e-01\n",
      "  -5.02431498e-01  -5.18119230e-04   8.47276853e-01  -3.00557107e-01\n",
      "   4.09803355e-01  -3.39630304e-01  -9.27932987e-01   4.16547902e-01\n",
      "   4.25060566e-01  -5.82420808e-01   8.94151256e-01   6.28046369e-01\n",
      "   5.28132461e-01   3.53726828e-01   5.63195126e-01   1.00681821e+00\n",
      "   3.30776563e-01   4.27906770e-01   7.25745557e-01   1.08322875e+00\n",
      "  -1.54946835e-01   1.83410340e-01  -3.19261881e-01   8.40990644e-01\n",
      "   3.20089558e-01   9.18113928e-01   7.25576763e-01   1.12925677e+00\n",
      "   3.14514639e-01  -5.19021343e-02   1.38705976e+00  -4.84003880e-04\n",
      "   1.08973575e+00   3.26498408e-02   7.22929752e-01  -1.44661284e-01\n",
      "   2.17895382e-02  -1.12072726e-01   1.00395769e-01   7.48514022e-01\n",
      "   4.67657561e-01  -6.68834421e-02   4.01135671e-01   2.69730397e-01\n",
      "  -4.60743587e-01   5.65455682e-02  -1.68502314e-01   2.14342081e+00\n",
      "   3.06891578e-01   8.57886412e-02   3.02263403e-01  -5.74865233e-03\n",
      "   7.55272641e-02   8.64506791e-01   7.54070799e-01   1.92513808e-02\n",
      "   6.06292303e-01   7.98257304e-01  -2.52556455e-01  -3.76498312e-01\n",
      "  -5.21023041e-02  -1.13836008e-01  -3.74708005e-02  -1.38421314e-01\n",
      "  -1.69402082e-02   2.18363563e-01   1.52953327e+00  -5.85996485e-02\n",
      "  -3.03940244e-01   1.05221779e+00  -2.49288169e-01   8.90223641e-02\n",
      "   5.55491089e-01   5.74381016e-01   8.50950785e-01  -1.60445767e-01\n",
      "   4.45667339e-01   9.22654619e-01   5.59971642e-01  -2.40743662e-01\n",
      "  -4.69624244e-01   2.40756410e-01  -1.88918751e-01   1.16943833e-01\n",
      "   1.06801126e-01   4.89326260e-01   1.84921034e-01   6.19122047e-01\n",
      "  -2.36514586e+00  -1.18671243e-01  -2.20873398e-01   1.73965687e+07\n",
      "  -1.05022091e+00   2.01906851e+00   4.03462801e-01   2.79134642e-01\n",
      "   3.31238042e+00   6.18736304e-02]\n"
     ]
    },
    {
     "name": "stdout",
     "output_type": "stream",
     "text": [
      "CPU times: user 10.4 s, sys: 241 ms, total: 10.7 s\n",
      "Wall time: 10.4 s\n"
     ]
    }
   ],
   "source": [
    "%%time\n",
    "# Initialize swarm\n",
    "options = {'c1': 0.5, 'c2': 0.3, 'w':0.9}\n",
    "\n",
    "# Call instance of PSO\n",
    "dimensions = (n_inputs_val * n_hidden_val) + (n_hidden_val * 2) + n_hidden_val + 2\n",
    "optimizer = ps.single.GlobalBestPSO(n_particles=100, dimensions=dimensions, options=options)\n",
    "\n",
    "# Perform optimization\n",
    "cost, pos = optimizer.optimize(f, iters=1000)"
   ]
  },
  {
   "cell_type": "code",
   "execution_count": 10,
   "metadata": {},
   "outputs": [],
   "source": [
    "def predict(X, pos):\n",
    "    \"\"\"\n",
    "    Use the trained weights to perform class predictions.\n",
    "\n",
    "    Inputs\n",
    "    ------\n",
    "    X: numpy.ndarray\n",
    "        Input the dataset\n",
    "    pos: numpy.ndarray\n",
    "        Position matrix found by the swarm. Will be rolled\n",
    "        into weights and biases.\n",
    "    \"\"\"\n",
    "    # Neural network architecture\n",
    "    n_inputs = n_inputs_val\n",
    "    n_hidden = n_hidden_val\n",
    "    n_classes = 2\n",
    "    \n",
    "    a1 = n_inputs_val * n_hidden_val\n",
    "    a2 = a1 + n_hidden_val\n",
    "    a3 = a2 + (n_hidden_val * n_classes)\n",
    "    a4 = a3 + n_classes\n",
    "\n",
    "    # Roll-back the weights and biases\n",
    "    W1 = pos[0:a1].reshape((n_inputs,n_hidden))\n",
    "    b1 = pos[a1:a2].reshape((n_hidden,))\n",
    "    W2 = pos[a2:a3].reshape((n_hidden,n_classes))\n",
    "    b2 = pos[a3:a4].reshape((n_classes,))\n",
    "\n",
    "    # Perform forward propagation\n",
    "    z1 = X.dot(W1) + b1  # Pre-activation in Layer 1\n",
    "    a1 = sigmoid(z1)     # Activation in Layer 1\n",
    "    z2 = a1.dot(W2) + b2 # Pre-activation in Layer 2\n",
    "    logits = z2          # Logits for Layer 2\n",
    "\n",
    "    y_pred = np.argmax(logits, axis=1)\n",
    "    return y_pred"
   ]
  },
  {
   "cell_type": "code",
   "execution_count": 11,
   "metadata": {},
   "outputs": [
    {
     "data": {
      "text/plain": [
       "0.72307692307692306"
      ]
     },
     "execution_count": 11,
     "metadata": {},
     "output_type": "execute_result"
    }
   ],
   "source": [
    "(predict(x_test, pos) == y_test).mean()"
   ]
  },
  {
   "cell_type": "code",
   "execution_count": 12,
   "metadata": {},
   "outputs": [
    {
     "data": {
      "text/plain": [
       "4"
      ]
     },
     "execution_count": 12,
     "metadata": {},
     "output_type": "execute_result"
    }
   ],
   "source": [
    "n_hidden_val"
   ]
  }
 ],
 "metadata": {
  "kernelspec": {
   "display_name": "Python 3",
   "language": "python",
   "name": "python3"
  },
  "language_info": {
   "codemirror_mode": {
    "name": "ipython",
    "version": 3
   },
   "file_extension": ".py",
   "mimetype": "text/x-python",
   "name": "python",
   "nbconvert_exporter": "python",
   "pygments_lexer": "ipython3",
   "version": "3.6.9"
  }
 },
 "nbformat": 4,
 "nbformat_minor": 2
}
