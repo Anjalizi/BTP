{
 "cells": [
  {
   "cell_type": "code",
   "execution_count": 1,
   "metadata": {},
   "outputs": [],
   "source": [
    "import pandas as pd\n",
    "import math\n",
    "from sklearn import model_selection\n",
    "from sklearn import svm\n",
    "import pyswarms as ps\n",
    "import numpy as np\n",
    "from sklearn.metrics import mean_squared_error"
   ]
  },
  {
   "cell_type": "code",
   "execution_count": 2,
   "metadata": {},
   "outputs": [],
   "source": [
    "data = pd.read_csv('parkinsons.csv', delimiter=',')"
   ]
  },
  {
   "cell_type": "code",
   "execution_count": 3,
   "metadata": {},
   "outputs": [],
   "source": [
    "x = data.drop(columns=['name', 'status']).to_numpy()\n",
    "y = data['status'].to_numpy()"
   ]
  },
  {
   "cell_type": "code",
   "execution_count": 47,
   "metadata": {},
   "outputs": [
    {
     "data": {
      "text/plain": [
       "(195, 4)"
      ]
     },
     "execution_count": 47,
     "metadata": {},
     "output_type": "execute_result"
    }
   ],
   "source": [
    "# four best features as per mid sems\n",
    "x = data[['HNR','RPDE','DFA','PPE']]\n",
    "x.shape\n",
    "\n",
    "# set 1 as per correlation coeff -> 83.58% training, 78.46% testing\n",
    "# x = data[['MDVP:Jitter(Abs)','MDVP:RAP','MDVP:PPQ','Jitter:DDP']]\n",
    "# x.shape"
   ]
  },
  {
   "cell_type": "code",
   "execution_count": 4,
   "metadata": {},
   "outputs": [],
   "source": [
    "# 60% training set and 40% testing set\n",
    "x_train, x_test, y_train, y_test = model_selection.train_test_split(x, y, test_size=0.4, random_state=0)"
   ]
  },
  {
   "cell_type": "code",
   "execution_count": 7,
   "metadata": {},
   "outputs": [],
   "source": [
    "# SVM PARAMETER TUNING WITH C=2 \n",
    "model_svm = svm.SVC(kernel='linear', C=2).fit(x_train, y_train)"
   ]
  },
  {
   "cell_type": "code",
   "execution_count": 8,
   "metadata": {},
   "outputs": [
    {
     "data": {
      "text/plain": [
       "0.9230769230769231"
      ]
     },
     "execution_count": 8,
     "metadata": {},
     "output_type": "execute_result"
    }
   ],
   "source": [
    "model_svm.score(x_test, y_test)"
   ]
  },
  {
   "cell_type": "code",
   "execution_count": null,
   "metadata": {},
   "outputs": [],
   "source": [
    "# max_score = 0\n",
    "# best_c = 1\n",
    "# for x in range(1,100):\n",
    "#     model = svm.SVC(C=x, kernel='linear', degree=3).fit(x_train, y_train)\n",
    "#     score = model.score(x_test, y_test)\n",
    "#     print(score)\n",
    "#     if(score > max_score):\n",
    "#         max_score = score\n",
    "#         best_c = x\n",
    "\n",
    "# print(max_score)\n",
    "# print(best_c)\n",
    "\n",
    "# 92.30769230769231% at c=2"
   ]
  },
  {
   "cell_type": "code",
   "execution_count": 9,
   "metadata": {},
   "outputs": [],
   "source": [
    "def fitness_function(position):\n",
    "    svmClassifier = svm.SVC(kernel='linear', gamma=position[0], C=position[1])\n",
    "    svmClassifier.fit(x_train, y_train)\n",
    "    y_train_pred = svmClassifier.predict(x_train)\n",
    "    y_test_pred = svmClassifier.predict(x_test)\n",
    "    mse_test = mean_squared_error(y_test, y_test_pred)\n",
    "    rmse_test = math.sqrt(mse_test)\n",
    "    print('Optimizing the Parameters ..... C = {c}, Gamma = {gamma}'.format(c=position[1], gamma=position[0]))\n",
    "    mse_train = mean_squared_error(y_train, y_train_pred)\n",
    "    rmse_train = math.sqrt(mse_train)\n",
    "    # list(range(mse_f_train, rmse_f_train))\n",
    "    retVal= [rmse_train, rmse_test] #Return a vector instead of single value. you can use the rmse_test and ignore rmse_train\n",
    "    return retVal"
   ]
  },
  {
   "cell_type": "code",
   "execution_count": 10,
   "metadata": {},
   "outputs": [],
   "source": [
    "def f(x):\n",
    "    n_particles = x.shape[0]\n",
    "    j = [fitness_function(x[i]) for i in range(n_particles)]\n",
    "    return np.array(j)"
   ]
  },
  {
   "cell_type": "code",
   "execution_count": 11,
   "metadata": {},
   "outputs": [
    {
     "name": "stderr",
     "output_type": "stream",
     "text": [
      "2020-04-23 16:13:44,529 - pyswarms.single.global_best - INFO - Optimize for 1000 iters with {'c1': 0.5, 'c2': 0.3, 'w': 0.9}\n",
      "pyswarms.single.global_best:   0%|          |0/1000"
     ]
    },
    {
     "name": "stdout",
     "output_type": "stream",
     "text": [
      "Optimizing the Parameters ..... C = 0.9610848336148076, Gamma = 0.3701037820345876\n",
      "Optimizing the Parameters ..... C = 0.4960609344116881, Gamma = 0.7281990121643953\n",
      "Optimizing the Parameters ..... C = 0.05752631812694209, Gamma = 0.5444878093867797\n",
      "Optimizing the Parameters ..... C = 0.6658042765745453, Gamma = 0.54676916706783\n",
      "Optimizing the Parameters ..... C = 0.7029016131182849, Gamma = 0.4476800516074869\n",
      "Optimizing the Parameters ..... C = 0.8544701688034184, Gamma = 0.4381313108744742\n",
      "Optimizing the Parameters ..... C = 0.031090394225949614, Gamma = 0.6529844954131887\n",
      "Optimizing the Parameters ..... C = 0.39823883780608527, Gamma = 0.19140822638773314\n",
      "Optimizing the Parameters ..... C = 0.5896823671360459, Gamma = 0.43311291067216195\n",
      "Optimizing the Parameters ..... C = 0.4053776899469176, Gamma = 0.6800049368814871\n",
      "Optimizing the Parameters ..... C = 0.2959415144834391, Gamma = 0.6542338329951698\n",
      "Optimizing the Parameters ..... C = 0.24100811034939706, Gamma = 0.8188724808549329\n",
      "Optimizing the Parameters ..... C = 0.6867159806274251, Gamma = 0.580479992410194\n",
      "Optimizing the Parameters ..... C = 0.9230899000467077, Gamma = 0.4596495424368221\n",
      "Optimizing the Parameters ..... C = 0.1394212452150141, Gamma = 0.9086725927221159\n",
      "Optimizing the Parameters ..... C = 0.9202795746081975, Gamma = 0.9122078283589873\n",
      "Optimizing the Parameters ..... C = 0.696491472064261, Gamma = 0.19058124541760013\n",
      "Optimizing the Parameters ..... C = 0.8028925638733446, Gamma = 0.4902231967929266\n",
      "Optimizing the Parameters ..... C = 0.7570434092303099, Gamma = 0.7071072226068076\n",
      "Optimizing the Parameters ..... C = 0.09404097523024046, Gamma = 0.6922900188453835\n",
      "Optimizing the Parameters ..... C = 0.001527048357447991, Gamma = 0.31025276847966665\n",
      "Optimizing the Parameters ..... C = 0.3865560900849738, Gamma = 0.07248825596171804\n",
      "Optimizing the Parameters ..... C = 0.1964465862899054, Gamma = 0.3124535776632341\n",
      "Optimizing the Parameters ..... C = 0.3302480595733035, Gamma = 0.32573820686951593\n",
      "Optimizing the Parameters ..... C = 0.7083603055181547, Gamma = 0.13117036971364693\n",
      "Optimizing the Parameters ..... C = 0.5870389409911302, Gamma = 0.6726560751908384\n",
      "Optimizing the Parameters ..... C = 0.701899034447647, Gamma = 0.6683066924678752\n",
      "Optimizing the Parameters ..... C = 0.7696541931889781, Gamma = 0.03813290503881284\n",
      "Optimizing the Parameters ..... C = 0.002100961332118234, Gamma = 0.14019642898900042\n",
      "Optimizing the Parameters ..... C = 0.20541110489274395, Gamma = 0.554571277131217\n",
      "Optimizing the Parameters ..... C = 0.89804224594756, Gamma = 0.3944843127410097\n",
      "Optimizing the Parameters ..... C = 0.12118592701567099, Gamma = 0.4856644979292386\n",
      "Optimizing the Parameters ..... C = 0.33373358941179077, Gamma = 0.559756944326541\n",
      "Optimizing the Parameters ..... C = 0.9940920121746873, Gamma = 0.531917690365071\n",
      "Optimizing the Parameters ..... C = 0.6614008110826344, Gamma = 0.27673950209601217\n",
      "Optimizing the Parameters ..... C = 0.02834360979690853, Gamma = 0.2254106941106474\n",
      "Optimizing the Parameters ..... C = 0.5484598298567614, Gamma = 0.849182431146912\n",
      "Optimizing the Parameters ..... C = 0.19044147390865795, Gamma = 0.028349667170380233\n",
      "Optimizing the Parameters ..... C = 0.9128709484525245, Gamma = 0.5373359989060119\n",
      "Optimizing the Parameters ..... C = 0.2964342845052712, Gamma = 0.7850186478244181\n",
      "Optimizing the Parameters ..... C = 0.053318146589617976, Gamma = 0.8009413602526556\n",
      "Optimizing the Parameters ..... C = 0.5992876896059001, Gamma = 0.9730503020149384\n",
      "Optimizing the Parameters ..... C = 0.9041637303628214, Gamma = 0.4610803711203917\n",
      "Optimizing the Parameters ..... C = 0.7127164988815118, Gamma = 0.3316338257263093\n",
      "Optimizing the Parameters ..... C = 0.5603938921283083, Gamma = 0.9199923381497803\n",
      "Optimizing the Parameters ..... C = 0.8070699180616765, Gamma = 0.7798410030645643\n",
      "Optimizing the Parameters ..... C = 0.8312866864545004, Gamma = 0.5036653143219761\n",
      "Optimizing the Parameters ..... C = 0.07138120123943448, Gamma = 0.05564638539223754\n",
      "Optimizing the Parameters ..... C = 0.9079778443437398, Gamma = 0.27512322777337417\n",
      "Optimizing the Parameters ..... C = 0.8069286104171188, Gamma = 0.02035716943844368\n",
      "Optimizing the Parameters ..... C = 0.9574595631755846, Gamma = 0.5637351947387562\n",
      "Optimizing the Parameters ..... C = 0.4384590599779358, Gamma = 0.05410887469413539\n",
      "Optimizing the Parameters ..... C = 0.41331591521612476, Gamma = 0.6550986839350375\n",
      "Optimizing the Parameters ..... C = 0.1098519751534226, Gamma = 0.9474533437939617\n",
      "Optimizing the Parameters ..... C = 0.25569972617082337, Gamma = 0.1880006193541628\n",
      "Optimizing the Parameters ..... C = 0.15487798035492784, Gamma = 0.13825648801423607\n",
      "Optimizing the Parameters ..... C = 0.6494312374996288, Gamma = 0.4171656143266298\n",
      "Optimizing the Parameters ..... C = 0.41850368592330645, Gamma = 0.8734993961948204\n",
      "Optimizing the Parameters ..... C = 0.2595351802219932, Gamma = 0.5989226730033722\n",
      "Optimizing the Parameters ..... C = 0.9938553054605265, Gamma = 0.352642439224249\n",
      "Optimizing the Parameters ..... C = 0.46505527954103754, Gamma = 0.9067210223368921\n",
      "Optimizing the Parameters ..... C = 0.22272212186578721, Gamma = 0.6627453255889306\n",
      "Optimizing the Parameters ..... C = 0.2912220831647647, Gamma = 0.28197625671861704\n",
      "Optimizing the Parameters ..... C = 0.8099792707525701, Gamma = 0.3378535772047939\n",
      "Optimizing the Parameters ..... C = 0.4281263535084976, Gamma = 0.0004171279283953222\n",
      "Optimizing the Parameters ..... C = 0.38616098632662643, Gamma = 0.4440992669714807\n",
      "Optimizing the Parameters ..... C = 0.6021257647458104, Gamma = 0.4386131327942594\n",
      "Optimizing the Parameters ..... C = 0.3443531347532879, Gamma = 0.2049569963154434\n",
      "Optimizing the Parameters ..... C = 0.17029354335792113, Gamma = 0.040674837616483495\n",
      "Optimizing the Parameters ..... C = 0.3940773042895823, Gamma = 0.06781116965217537\n",
      "Optimizing the Parameters ..... C = 0.3077058285555123, Gamma = 0.4264704070207078\n",
      "Optimizing the Parameters ..... C = 0.16273780662062087, Gamma = 0.9221233870885481\n",
      "Optimizing the Parameters ..... C = 0.6938556201589509, Gamma = 0.7147224988476972\n",
      "Optimizing the Parameters ..... C = 0.009499117472137386, Gamma = 0.8433289308697368\n",
      "Optimizing the Parameters ..... C = 0.03653484078818725, Gamma = 0.01841915127701721\n",
      "Optimizing the Parameters ..... C = 0.8304267583507733, Gamma = 0.3031987812585445\n",
      "Optimizing the Parameters ..... C = 0.2420210796579283, Gamma = 0.6951081629268929\n",
      "Optimizing the Parameters ..... C = 0.7266397156529955, Gamma = 0.9288956928830533\n",
      "Optimizing the Parameters ..... C = 0.32065709331716685, Gamma = 0.5945478981150908\n",
      "Optimizing the Parameters ..... C = 0.22155467012886731, Gamma = 0.7724511019167798\n",
      "Optimizing the Parameters ..... C = 0.8453539995561724, Gamma = 0.8736733570153915\n",
      "Optimizing the Parameters ..... C = 0.43707971929288714, Gamma = 0.3133775260350513\n",
      "Optimizing the Parameters ..... C = 0.9201266014847197, Gamma = 0.13103043834240302\n",
      "Optimizing the Parameters ..... C = 0.30406463200300793, Gamma = 0.2492175332003158\n",
      "Optimizing the Parameters ..... C = 0.4997466453669215, Gamma = 0.3452413062938994\n",
      "Optimizing the Parameters ..... C = 0.9352087213215111, Gamma = 0.9507268045792305\n",
      "Optimizing the Parameters ..... C = 0.025487756414175666, Gamma = 0.5695170319796956\n",
      "Optimizing the Parameters ..... C = 0.2957349738167997, Gamma = 0.7045627479030717\n",
      "Optimizing the Parameters ..... C = 0.3212989410173719, Gamma = 0.30927966712459476\n",
      "Optimizing the Parameters ..... C = 0.2462559862519551, Gamma = 0.13790188143214555\n",
      "Optimizing the Parameters ..... C = 0.587110188455367, Gamma = 0.8563334000005461\n",
      "Optimizing the Parameters ..... C = 0.4102694916338444, Gamma = 0.33390020696021283\n",
      "Optimizing the Parameters ..... C = 0.986042678216611, Gamma = 0.2586921683746016\n",
      "Optimizing the Parameters ..... C = 0.023811436065086622, Gamma = 0.9231603819208989\n",
      "Optimizing the Parameters ..... C = 0.40352308719863983, Gamma = 0.8236875391284241\n",
      "Optimizing the Parameters ..... C = 0.7564685633304453, Gamma = 0.24523378254418182\n"
     ]
    },
    {
     "name": "stderr",
     "output_type": "stream",
     "text": [
      "\r",
      "pyswarms.single.global_best:   0%|          |0/1000"
     ]
    },
    {
     "name": "stdout",
     "output_type": "stream",
     "text": [
      "Optimizing the Parameters ..... C = 0.6959809879160533, Gamma = 0.2121806418417559\n",
      "Optimizing the Parameters ..... C = 0.5031410780847151, Gamma = 0.4046648371098269\n",
      "Optimizing the Parameters ..... C = 0.046907140464804487, Gamma = 0.5529995815886469\n",
      "Optimizing the Parameters ..... C = 0.9940730732753108, Gamma = 0.015690724670518463\n"
     ]
    },
    {
     "name": "stderr",
     "output_type": "stream",
     "text": [
      "\n"
     ]
    },
    {
     "ename": "ValueError",
     "evalue": "operands could not be broadcast together with shapes (100,2) (100,) ",
     "output_type": "error",
     "traceback": [
      "\u001b[0;31m---------------------------------------------------------------------------\u001b[0m",
      "\u001b[0;31mValueError\u001b[0m                                Traceback (most recent call last)",
      "\u001b[0;32m<ipython-input-11-5cca05dd4552>\u001b[0m in \u001b[0;36m<module>\u001b[0;34m\u001b[0m\n\u001b[1;32m      1\u001b[0m \u001b[0moptions\u001b[0m \u001b[0;34m=\u001b[0m \u001b[0;34m{\u001b[0m\u001b[0;34m'c1'\u001b[0m\u001b[0;34m:\u001b[0m \u001b[0;36m0.5\u001b[0m\u001b[0;34m,\u001b[0m \u001b[0;34m'c2'\u001b[0m\u001b[0;34m:\u001b[0m \u001b[0;36m0.3\u001b[0m\u001b[0;34m,\u001b[0m \u001b[0;34m'w'\u001b[0m\u001b[0;34m:\u001b[0m\u001b[0;36m0.9\u001b[0m\u001b[0;34m}\u001b[0m\u001b[0;34m\u001b[0m\u001b[0;34m\u001b[0m\u001b[0m\n\u001b[1;32m      2\u001b[0m \u001b[0moptimizer\u001b[0m \u001b[0;34m=\u001b[0m \u001b[0mps\u001b[0m\u001b[0;34m.\u001b[0m\u001b[0msingle\u001b[0m\u001b[0;34m.\u001b[0m\u001b[0mGlobalBestPSO\u001b[0m\u001b[0;34m(\u001b[0m\u001b[0mn_particles\u001b[0m\u001b[0;34m=\u001b[0m\u001b[0;36m100\u001b[0m\u001b[0;34m,\u001b[0m \u001b[0mdimensions\u001b[0m\u001b[0;34m=\u001b[0m\u001b[0;36m2\u001b[0m\u001b[0;34m,\u001b[0m \u001b[0moptions\u001b[0m\u001b[0;34m=\u001b[0m\u001b[0moptions\u001b[0m\u001b[0;34m)\u001b[0m\u001b[0;34m\u001b[0m\u001b[0;34m\u001b[0m\u001b[0m\n\u001b[0;32m----> 3\u001b[0;31m \u001b[0mgamma_opt\u001b[0m\u001b[0;34m,\u001b[0m \u001b[0mC_opt\u001b[0m \u001b[0;34m=\u001b[0m \u001b[0moptimizer\u001b[0m\u001b[0;34m.\u001b[0m\u001b[0moptimize\u001b[0m\u001b[0;34m(\u001b[0m\u001b[0mf\u001b[0m\u001b[0;34m,\u001b[0m \u001b[0miters\u001b[0m\u001b[0;34m=\u001b[0m\u001b[0;36m1000\u001b[0m\u001b[0;34m)\u001b[0m\u001b[0;34m\u001b[0m\u001b[0;34m\u001b[0m\u001b[0m\n\u001b[0m",
      "\u001b[0;32m~/.local/lib/python3.6/site-packages/pyswarms/single/global_best.py\u001b[0m in \u001b[0;36moptimize\u001b[0;34m(self, objective_func, iters, n_processes, **kwargs)\u001b[0m\n\u001b[1;32m    183\u001b[0m             \u001b[0;31m# fmt: off\u001b[0m\u001b[0;34m\u001b[0m\u001b[0;34m\u001b[0m\u001b[0;34m\u001b[0m\u001b[0m\n\u001b[1;32m    184\u001b[0m             \u001b[0mself\u001b[0m\u001b[0;34m.\u001b[0m\u001b[0mswarm\u001b[0m\u001b[0;34m.\u001b[0m\u001b[0mcurrent_cost\u001b[0m \u001b[0;34m=\u001b[0m \u001b[0mcompute_objective_function\u001b[0m\u001b[0;34m(\u001b[0m\u001b[0mself\u001b[0m\u001b[0;34m.\u001b[0m\u001b[0mswarm\u001b[0m\u001b[0;34m,\u001b[0m \u001b[0mobjective_func\u001b[0m\u001b[0;34m,\u001b[0m \u001b[0mpool\u001b[0m\u001b[0;34m=\u001b[0m\u001b[0mpool\u001b[0m\u001b[0;34m,\u001b[0m \u001b[0;34m**\u001b[0m\u001b[0mkwargs\u001b[0m\u001b[0;34m)\u001b[0m\u001b[0;34m\u001b[0m\u001b[0;34m\u001b[0m\u001b[0m\n\u001b[0;32m--> 185\u001b[0;31m             \u001b[0mself\u001b[0m\u001b[0;34m.\u001b[0m\u001b[0mswarm\u001b[0m\u001b[0;34m.\u001b[0m\u001b[0mpbest_pos\u001b[0m\u001b[0;34m,\u001b[0m \u001b[0mself\u001b[0m\u001b[0;34m.\u001b[0m\u001b[0mswarm\u001b[0m\u001b[0;34m.\u001b[0m\u001b[0mpbest_cost\u001b[0m \u001b[0;34m=\u001b[0m \u001b[0mcompute_pbest\u001b[0m\u001b[0;34m(\u001b[0m\u001b[0mself\u001b[0m\u001b[0;34m.\u001b[0m\u001b[0mswarm\u001b[0m\u001b[0;34m)\u001b[0m\u001b[0;34m\u001b[0m\u001b[0;34m\u001b[0m\u001b[0m\n\u001b[0m\u001b[1;32m    186\u001b[0m             \u001b[0;31m# Set best_cost_yet_found for ftol\u001b[0m\u001b[0;34m\u001b[0m\u001b[0;34m\u001b[0m\u001b[0;34m\u001b[0m\u001b[0m\n\u001b[1;32m    187\u001b[0m             \u001b[0mbest_cost_yet_found\u001b[0m \u001b[0;34m=\u001b[0m \u001b[0mself\u001b[0m\u001b[0;34m.\u001b[0m\u001b[0mswarm\u001b[0m\u001b[0;34m.\u001b[0m\u001b[0mbest_cost\u001b[0m\u001b[0;34m\u001b[0m\u001b[0;34m\u001b[0m\u001b[0m\n",
      "\u001b[0;32m~/.local/lib/python3.6/site-packages/pyswarms/backend/operators.py\u001b[0m in \u001b[0;36mcompute_pbest\u001b[0;34m(swarm)\u001b[0m\n\u001b[1;32m     64\u001b[0m         \u001b[0mdimensions\u001b[0m \u001b[0;34m=\u001b[0m \u001b[0mswarm\u001b[0m\u001b[0;34m.\u001b[0m\u001b[0mdimensions\u001b[0m\u001b[0;34m\u001b[0m\u001b[0;34m\u001b[0m\u001b[0m\n\u001b[1;32m     65\u001b[0m         \u001b[0;31m# Create a 1-D and 2-D mask based from comparisons\u001b[0m\u001b[0;34m\u001b[0m\u001b[0;34m\u001b[0m\u001b[0;34m\u001b[0m\u001b[0m\n\u001b[0;32m---> 66\u001b[0;31m         \u001b[0mmask_cost\u001b[0m \u001b[0;34m=\u001b[0m \u001b[0mswarm\u001b[0m\u001b[0;34m.\u001b[0m\u001b[0mcurrent_cost\u001b[0m \u001b[0;34m<\u001b[0m \u001b[0mswarm\u001b[0m\u001b[0;34m.\u001b[0m\u001b[0mpbest_cost\u001b[0m\u001b[0;34m\u001b[0m\u001b[0;34m\u001b[0m\u001b[0m\n\u001b[0m\u001b[1;32m     67\u001b[0m         \u001b[0mmask_pos\u001b[0m \u001b[0;34m=\u001b[0m \u001b[0mnp\u001b[0m\u001b[0;34m.\u001b[0m\u001b[0mrepeat\u001b[0m\u001b[0;34m(\u001b[0m\u001b[0mmask_cost\u001b[0m\u001b[0;34m[\u001b[0m\u001b[0;34m:\u001b[0m\u001b[0;34m,\u001b[0m \u001b[0mnp\u001b[0m\u001b[0;34m.\u001b[0m\u001b[0mnewaxis\u001b[0m\u001b[0;34m]\u001b[0m\u001b[0;34m,\u001b[0m \u001b[0mdimensions\u001b[0m\u001b[0;34m,\u001b[0m \u001b[0maxis\u001b[0m\u001b[0;34m=\u001b[0m\u001b[0;36m1\u001b[0m\u001b[0;34m)\u001b[0m\u001b[0;34m\u001b[0m\u001b[0;34m\u001b[0m\u001b[0m\n\u001b[1;32m     68\u001b[0m         \u001b[0;31m# Apply masks\u001b[0m\u001b[0;34m\u001b[0m\u001b[0;34m\u001b[0m\u001b[0;34m\u001b[0m\u001b[0m\n",
      "\u001b[0;31mValueError\u001b[0m: operands could not be broadcast together with shapes (100,2) (100,) "
     ]
    }
   ],
   "source": [
    "options = {'c1': 0.5, 'c2': 0.3, 'w':0.9}\n",
    "optimizer = ps.single.GlobalBestPSO(n_particles=100, dimensions=2, options=options)\n",
    "gamma_opt, C_opt = optimizer.optimize(f, iters=1000)"
   ]
  },
  {
   "cell_type": "code",
   "execution_count": 41,
   "metadata": {},
   "outputs": [],
   "source": [
    "# PARAMETER TUNING USING GRID SEARCH CV\n",
    "from sklearn.model_selection import GridSearchCV"
   ]
  },
  {
   "cell_type": "code",
   "execution_count": 40,
   "metadata": {},
   "outputs": [
    {
     "data": {
      "text/plain": [
       "0.8076923076923077"
      ]
     },
     "execution_count": 40,
     "metadata": {},
     "output_type": "execute_result"
    }
   ],
   "source": [
    "model2 = svm.SVC(C=10, kernel='rbf', gamma=\"auto\").fit(x_train, y_train)\n",
    "model2.score(x_test, y_test)"
   ]
  },
  {
   "cell_type": "code",
   "execution_count": 39,
   "metadata": {},
   "outputs": [],
   "source": [
    "parameters = {'kernel':('rbf','linear'), 'C':range(3,100)}\n",
    "svc = svm.SVC(gamma=\"auto\")\n",
    "clf = GridSearchCV(svc, parameters, cv=5)"
   ]
  },
  {
   "cell_type": "code",
   "execution_count": 63,
   "metadata": {},
   "outputs": [],
   "source": [
    "#solo\n",
    "parameters = {'C':range(1,1000)}\n",
    "svc = svm.SVC(gamma=\"auto\", kernel='linear')\n",
    "clf = GridSearchCV(svc, parameters, cv=5)"
   ]
  },
  {
   "cell_type": "code",
   "execution_count": null,
   "metadata": {},
   "outputs": [],
   "source": [
    "clf.fit(x_train, y_train)"
   ]
  },
  {
   "cell_type": "code",
   "execution_count": 58,
   "metadata": {},
   "outputs": [
    {
     "data": {
      "text/plain": [
       "['mean_fit_time',\n",
       " 'mean_score_time',\n",
       " 'mean_test_score',\n",
       " 'param_C',\n",
       " 'params',\n",
       " 'rank_test_score',\n",
       " 'split0_test_score',\n",
       " 'split1_test_score',\n",
       " 'split2_test_score',\n",
       " 'split3_test_score',\n",
       " 'split4_test_score',\n",
       " 'std_fit_time',\n",
       " 'std_score_time',\n",
       " 'std_test_score']"
      ]
     },
     "execution_count": 58,
     "metadata": {},
     "output_type": "execute_result"
    }
   ],
   "source": [
    "sorted(clf.cv_results_.keys())"
   ]
  },
  {
   "cell_type": "code",
   "execution_count": 59,
   "metadata": {},
   "outputs": [],
   "source": [
    "y_pred = clf.predict(x_test)"
   ]
  },
  {
   "cell_type": "code",
   "execution_count": 60,
   "metadata": {},
   "outputs": [
    {
     "data": {
      "text/plain": [
       "(78, 22)"
      ]
     },
     "execution_count": 60,
     "metadata": {},
     "output_type": "execute_result"
    }
   ],
   "source": [
    "x_test.shape"
   ]
  },
  {
   "cell_type": "code",
   "execution_count": 61,
   "metadata": {},
   "outputs": [
    {
     "data": {
      "text/plain": [
       "{'C': 1}"
      ]
     },
     "execution_count": 61,
     "metadata": {},
     "output_type": "execute_result"
    }
   ],
   "source": [
    "clf.best_params_"
   ]
  },
  {
   "cell_type": "code",
   "execution_count": 62,
   "metadata": {},
   "outputs": [
    {
     "data": {
      "text/plain": [
       "<function sklearn.model_selection._search.BaseSearchCV.predict(self, X)>"
      ]
     },
     "execution_count": 62,
     "metadata": {},
     "output_type": "execute_result"
    }
   ],
   "source": [
    "clf.predict"
   ]
  },
  {
   "cell_type": "code",
   "execution_count": 42,
   "metadata": {},
   "outputs": [],
   "source": [
    "# LOGISTIC REGRESSION\n",
    "from sklearn.linear_model import LogisticRegression"
   ]
  },
  {
   "cell_type": "code",
   "execution_count": 5,
   "metadata": {},
   "outputs": [
    {
     "data": {
      "text/plain": [
       "Index(['name', 'MDVP:Fo(Hz)', 'MDVP:Fhi(Hz)', 'MDVP:Flo(Hz)', 'MDVP:Jitter(%)',\n",
       "       'MDVP:Jitter(Abs)', 'MDVP:RAP', 'MDVP:PPQ', 'Jitter:DDP',\n",
       "       'MDVP:Shimmer', 'MDVP:Shimmer(dB)', 'Shimmer:APQ3', 'Shimmer:APQ5',\n",
       "       'MDVP:APQ', 'Shimmer:DDA', 'NHR', 'HNR', 'status', 'RPDE', 'DFA',\n",
       "       'spread1', 'spread2', 'D2', 'PPE'],\n",
       "      dtype='object')"
      ]
     },
     "execution_count": 5,
     "metadata": {},
     "output_type": "execute_result"
    }
   ],
   "source": [
    "x = data.drop(columns=['name', 'status'])\n",
    "y = data['status']\n",
    "data.columns"
   ]
  },
  {
   "cell_type": "code",
   "execution_count": 230,
   "metadata": {},
   "outputs": [
    {
     "data": {
      "text/plain": [
       "(195, 7)"
      ]
     },
     "execution_count": 230,
     "metadata": {},
     "output_type": "execute_result"
    }
   ],
   "source": [
    "# four best features as per mid sems\n",
    "x = data[['HNR','RPDE','DFA','PPE']]\n",
    "x.shape\n",
    "\n",
    "# set 1 as per correlation coeff -> 83.58% training, 78.46% testing\n",
    "x = data[['MDVP:PPQ','MDVP:Shimmer', 'MDVP:Shimmer(dB)',\n",
    "          'Shimmer:APQ3', 'Shimmer:APQ5','MDVP:APQ','Shimmer:DDA']]\n",
    "x.shape"
   ]
  },
  {
   "cell_type": "code",
   "execution_count": 14,
   "metadata": {},
   "outputs": [],
   "source": [
    "# 60% training set and 40% testing set\n",
    "x_train, x_test, y_train, y_test = model_selection.train_test_split (x, y, test_size=0.33, random_state=0)"
   ]
  },
  {
   "cell_type": "code",
   "execution_count": 7,
   "metadata": {},
   "outputs": [
    {
     "name": "stderr",
     "output_type": "stream",
     "text": [
      "/usr/local/lib/python3.6/site-packages/sklearn/linear_model/logistic.py:432: FutureWarning: Default solver will be changed to 'lbfgs' in 0.22. Specify a solver to silence this warning.\n",
      "  FutureWarning)\n"
     ]
    }
   ],
   "source": [
    "clf = LogisticRegression(random_state=0).fit(x_train, y_train)"
   ]
  },
  {
   "cell_type": "code",
   "execution_count": 8,
   "metadata": {},
   "outputs": [
    {
     "data": {
      "text/plain": [
       "0.8923076923076924"
      ]
     },
     "execution_count": 8,
     "metadata": {},
     "output_type": "execute_result"
    }
   ],
   "source": [
    "clf.score(x_test, y_test)"
   ]
  }
 ],
 "metadata": {
  "kernelspec": {
   "display_name": "Python 3",
   "language": "python",
   "name": "python3"
  },
  "language_info": {
   "codemirror_mode": {
    "name": "ipython",
    "version": 3
   },
   "file_extension": ".py",
   "mimetype": "text/x-python",
   "name": "python",
   "nbconvert_exporter": "python",
   "pygments_lexer": "ipython3",
   "version": "3.6.9"
  }
 },
 "nbformat": 4,
 "nbformat_minor": 2
}
