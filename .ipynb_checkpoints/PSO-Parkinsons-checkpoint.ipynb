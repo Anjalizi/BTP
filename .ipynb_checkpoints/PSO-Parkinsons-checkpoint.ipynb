{
 "cells": [
  {
   "cell_type": "code",
   "execution_count": 1,
   "metadata": {},
   "outputs": [],
   "source": [
    "# Import modules\n",
    "import numpy as np\n",
    "import matplotlib.pyplot as plt\n",
    "from sklearn import model_selection\n",
    "\n",
    "# Import PySwarms\n",
    "import pyswarms as ps\n",
    "\n",
    "# Some more magic so that the notebook will reload external python modules;\n",
    "# see http://stackoverflow.com/questions/1907993/autoreload-of-modules-in-ipython\n",
    "%reload_ext autoreload\n",
    "%autoreload 2"
   ]
  },
  {
   "cell_type": "code",
   "execution_count": 2,
   "metadata": {},
   "outputs": [
    {
     "data": {
      "text/plain": [
       "Index(['name', 'MDVP:Fo(Hz)', 'MDVP:Fhi(Hz)', 'MDVP:Flo(Hz)', 'MDVP:Jitter(%)',\n",
       "       'MDVP:Jitter(Abs)', 'MDVP:RAP', 'MDVP:PPQ', 'Jitter:DDP',\n",
       "       'MDVP:Shimmer', 'MDVP:Shimmer(dB)', 'Shimmer:APQ3', 'Shimmer:APQ5',\n",
       "       'MDVP:APQ', 'Shimmer:DDA', 'NHR', 'HNR', 'status', 'RPDE', 'DFA',\n",
       "       'spread1', 'spread2', 'D2', 'PPE'],\n",
       "      dtype='object')"
      ]
     },
     "execution_count": 2,
     "metadata": {},
     "output_type": "execute_result"
    }
   ],
   "source": [
    "# Load the dataset\n",
    "import pandas as pd\n",
    "data = pd.read_csv('parkinsons.csv', delimiter=',')\n",
    "data.columns"
   ]
  },
  {
   "cell_type": "code",
   "execution_count": 12,
   "metadata": {},
   "outputs": [
    {
     "data": {
      "text/plain": [
       "(195, 4)"
      ]
     },
     "execution_count": 12,
     "metadata": {},
     "output_type": "execute_result"
    }
   ],
   "source": [
    "# Store the features as X and the labels as y\n",
    "X = data.drop(columns=['name', 'status']).to_numpy()\n",
    "y = data['status'].to_numpy()\n",
    "data.columns\n",
    "\n",
    "# four best features as per mid sems\n",
    "X = data[['HNR','RPDE','DFA','PPE']].to_numpy()\n",
    "X.shape\n",
    "\n",
    "# set 1 as per correlation coeff -> 83.58% training, 78.46% testing\n",
    "X = data[['MDVP:Jitter(Abs)','MDVP:RAP','MDVP:PPQ','Jitter:DDP']].to_numpy()\n",
    "X.shape\n",
    "\n",
    "# set 2 as per correlation coeff -> 83.58% training, 80% testing\n",
    "X = data[['MDVP:Jitter(Abs)','MDVP:RAP','Jitter:DDP']].to_numpy()\n",
    "X.shape"
   ]
  },
  {
   "cell_type": "code",
   "execution_count": 13,
   "metadata": {},
   "outputs": [
    {
     "data": {
      "text/plain": [
       "(130, 4)"
      ]
     },
     "execution_count": 13,
     "metadata": {},
     "output_type": "execute_result"
    }
   ],
   "source": [
    "# 60% training set and 40% testing set\n",
    "x_train, x_test, y_train, y_test = model_selection.train_test_split (X, y, test_size=0.33, random_state=0)\n",
    "x_train.shape"
   ]
  },
  {
   "cell_type": "code",
   "execution_count": 5,
   "metadata": {},
   "outputs": [
    {
     "data": {
      "text/plain": [
       "dtype('float64')"
      ]
     },
     "execution_count": 5,
     "metadata": {},
     "output_type": "execute_result"
    }
   ],
   "source": [
    "X.dtype"
   ]
  },
  {
   "cell_type": "code",
   "execution_count": 6,
   "metadata": {},
   "outputs": [],
   "source": [
    "def sigmoid(Z):\n",
    "    return 1/(1+np.exp(-Z))\n",
    "\n",
    "def relu(Z):\n",
    "    return np.maximum(0,Z)\n",
    "\n",
    "def sigmoid_backward(dA, Z):\n",
    "    sig = sigmoid(Z)\n",
    "    return dA * sig * (1 - sig)\n",
    "\n",
    "def relu_backward(dA, Z):\n",
    "    dZ = np.array(dA, copy = True)\n",
    "    dZ[Z <= 0] = 0;\n",
    "    return dZ;"
   ]
  },
  {
   "cell_type": "code",
   "execution_count": 7,
   "metadata": {},
   "outputs": [],
   "source": [
    "# Forward propagation\n",
    "def forward_prop(params):\n",
    "    \"\"\"Forward propagation as objective function\n",
    "\n",
    "    This computes for the forward propagation of the neural network, as\n",
    "    well as the loss. It receives a set of parameters that must be\n",
    "    rolled-back into the corresponding weights and biases.\n",
    "\n",
    "    Inputs\n",
    "    ------\n",
    "    params: np.ndarray\n",
    "        The dimensions should include an unrolled version of the\n",
    "        weights and biases.\n",
    "\n",
    "    Returns\n",
    "    -------\n",
    "    float\n",
    "        The computed negative log-likelihood loss given the parameters\n",
    "    \"\"\"\n",
    "    # Neural network architecture\n",
    "    n_inputs = 3\n",
    "    n_hidden = 20\n",
    "    n_classes = 2\n",
    "\n",
    "    # Roll-back the weights and biases\n",
    "    W1 = params[0:60].reshape((n_inputs,n_hidden))\n",
    "    b1 = params[60:80].reshape((n_hidden,))\n",
    "    W2 = params[80:120].reshape((n_hidden,n_classes))\n",
    "    b2 = params[120:122].reshape((n_classes,))\n",
    "\n",
    "    # Perform forward propagation\n",
    "    z1 = X.dot(W1) + b1  # Pre-activation in Layer 1\n",
    "    a1 = np.tanh(z1)     # Activation in Layer 1\n",
    "    z2 = a1.dot(W2) + b2 # Pre-activation in Layer 2\n",
    "    logits = z2          # Logits for Layer 2\n",
    "\n",
    "    # Compute for the softmax of the logits\n",
    "    exp_scores = np.exp(logits)\n",
    "    probs = exp_scores / np.sum(exp_scores, axis=1, keepdims=True)\n",
    "\n",
    "    # Compute for the negative log likelihood\n",
    "    N = 195 # Number of samples\n",
    "    corect_logprobs = -np.log(probs[range(N), y])\n",
    "    loss = np.sum(corect_logprobs) / N\n",
    "\n",
    "    return loss"
   ]
  },
  {
   "cell_type": "code",
   "execution_count": 8,
   "metadata": {},
   "outputs": [],
   "source": [
    "def f(x):\n",
    "    \"\"\"Higher-level method to do forward_prop in the\n",
    "    whole swarm.\n",
    "\n",
    "    Inputs\n",
    "    ------\n",
    "    x: numpy.ndarray of shape (n_particles, dimensions)\n",
    "        The swarm that will perform the search\n",
    "\n",
    "    Returns\n",
    "    -------\n",
    "    numpy.ndarray of shape (n_particles, )\n",
    "        The computed loss for each particle\n",
    "    \"\"\"\n",
    "    n_particles = x.shape[0]\n",
    "    j = [forward_prop(x[i]) for i in range(n_particles)]\n",
    "    return np.array(j)"
   ]
  },
  {
   "cell_type": "code",
   "execution_count": 9,
   "metadata": {},
   "outputs": [
    {
     "name": "stderr",
     "output_type": "stream",
     "text": [
      "2019-12-09 17:07:03,448 - pyswarms.single.global_best - INFO - Optimize for 1000 iters with {'c1': 0.5, 'c2': 0.5, 'w': 0.9}\n",
      "pyswarms.single.global_best: 100%|██████████|1000/1000, best_cost=0.425\n",
      "2019-12-09 17:07:28,471 - pyswarms.single.global_best - INFO - Optimization finished | best cost: 0.424905281779306, best pos: [ 1.28454854e+01  5.54996491e+00  3.57847084e+00  2.21827300e+00\n",
      "  4.22990235e+00  7.05954447e-01  4.12499798e+00  3.06478051e-01\n",
      "  3.86884631e+00  5.11272251e-01  1.40104442e+01  4.23900300e+00\n",
      " -1.14137852e+00  1.67221640e-01  1.15101716e+05  6.73172704e+00\n",
      " -3.05278086e+01 -1.05251167e-01  2.25815523e+00 -8.14175330e-01\n",
      "  3.72058958e-01  1.13228700e+00 -1.54559385e+00  2.81431414e+00\n",
      " -8.97798494e-01 -6.11515543e-01  1.44623037e+00  5.70337065e-01\n",
      "  1.18904815e+01 -8.74235211e-01  2.40457562e+00 -8.31352167e-01\n",
      "  4.49957403e+00  1.56336503e+00 -1.56236229e+00 -2.16782083e+00\n",
      "  3.51146760e+00  8.62261317e-01  2.93109907e+00 -3.92472044e-01\n",
      "  1.93010184e+00 -8.71178216e+01  4.64056183e-01  2.41682761e+00\n",
      "  6.36067408e-01 -4.40105091e-01  1.81578883e+00  2.00022134e+00\n",
      "  1.12049836e+00  1.25185449e-01  1.20358071e-02  2.26042022e+01\n",
      "  9.42203591e+01  4.85119648e+00  2.84913969e+00  2.24524652e+00\n",
      "  3.09711059e+00  2.08698094e-01 -8.83419707e-01 -1.56078539e+01\n",
      " -1.43792807e+00  2.49531301e-01  1.22326187e+00 -5.34861249e-01\n",
      "  2.70977151e+00 -2.17663141e+00  1.11841000e+00  2.36026366e+00\n",
      "  4.93106088e-01  6.07853907e+00 -3.75879173e-02 -1.00661352e+00\n",
      "  4.98983000e-01 -2.33792600e-01  5.51750243e-01  3.93332472e+00\n",
      " -1.52427340e+02 -8.74885281e+00  1.87133735e+00  3.93521776e+00\n",
      "  6.24766287e-01  4.73235786e-01  1.74499413e+00  1.86892538e+00\n",
      " -3.34183181e+00 -7.19567675e+00 -1.58894605e+01  1.14047820e+00\n",
      " -4.73428872e-01  2.07796096e+00  2.02936467e+00  5.56745665e+00\n",
      "  1.70808918e-01  9.56092792e-01 -4.77877137e-01  9.19990225e-01\n",
      "  1.42082515e+00 -9.71864558e+00  3.05773362e+00  6.83676685e+00\n",
      " -7.63113413e-01  2.22397367e+00  1.25775897e+00  7.77687395e+00\n",
      "  1.17754531e+00  3.49553693e+00  8.48028533e-01  2.19295927e+00\n",
      "  5.09545219e-01  3.45197644e+01 -1.72297820e+00 -1.95774195e+01\n",
      " -9.16654255e-01  3.91729143e-01 -3.41210641e-01 -2.30442829e+00\n",
      "  6.05668666e-01  5.60435832e-01  1.70757781e+00 -5.84652038e-02\n",
      "  2.22272515e+00  3.33019828e+00]\n"
     ]
    },
    {
     "name": "stdout",
     "output_type": "stream",
     "text": [
      "CPU times: user 25.1 s, sys: 364 ms, total: 25.4 s\n",
      "Wall time: 25 s\n"
     ]
    }
   ],
   "source": [
    "%%time\n",
    "# Initialize swarm\n",
    "options = {'c1': 0.5, 'c2': 0.5, 'w':0.9}\n",
    "\n",
    "# Call instance of PSO\n",
    "dimensions = (3 * 20) + (20 * 2) + 20 + 2\n",
    "optimizer = ps.single.GlobalBestPSO(n_particles=100, dimensions=dimensions, options=options)\n",
    "\n",
    "# Perform optimization\n",
    "cost, pos = optimizer.optimize(f, iters=1000)"
   ]
  },
  {
   "cell_type": "code",
   "execution_count": 10,
   "metadata": {},
   "outputs": [],
   "source": [
    "def predict(X, pos):\n",
    "    \"\"\"\n",
    "    Use the trained weights to perform class predictions.\n",
    "\n",
    "    Inputs\n",
    "    ------\n",
    "    X: numpy.ndarray\n",
    "        Input Iris dataset\n",
    "    pos: numpy.ndarray\n",
    "        Position matrix found by the swarm. Will be rolled\n",
    "        into weights and biases.\n",
    "    \"\"\"\n",
    "    # Neural network architecture\n",
    "    n_inputs = 3\n",
    "    n_hidden = 20\n",
    "    n_classes = 2\n",
    "\n",
    "    # Roll-back the weights and biases\n",
    "    W1 = pos[0:60].reshape((n_inputs,n_hidden))\n",
    "    b1 = pos[60:80].reshape((n_hidden,))\n",
    "    W2 = pos[80:120].reshape((n_hidden,n_classes))\n",
    "    b2 = pos[120:122].reshape((n_classes,))\n",
    "\n",
    "    # Perform forward propagation\n",
    "    z1 = X.dot(W1) + b1  # Pre-activation in Layer 1\n",
    "    a1 = np.tanh(z1)     # Activation in Layer 1\n",
    "    z2 = a1.dot(W2) + b2 # Pre-activation in Layer 2\n",
    "    logits = z2          # Logits for Layer 2\n",
    "\n",
    "    y_pred = np.argmax(logits, axis=1)\n",
    "    return y_pred"
   ]
  },
  {
   "cell_type": "code",
   "execution_count": 11,
   "metadata": {},
   "outputs": [
    {
     "data": {
      "text/plain": [
       "0.8358974358974359"
      ]
     },
     "execution_count": 11,
     "metadata": {},
     "output_type": "execute_result"
    }
   ],
   "source": [
    "(predict(X, pos) == y).mean()"
   ]
  }
 ],
 "metadata": {
  "kernelspec": {
   "display_name": "Python 3",
   "language": "python",
   "name": "python3"
  },
  "language_info": {
   "codemirror_mode": {
    "name": "ipython",
    "version": 3
   },
   "file_extension": ".py",
   "mimetype": "text/x-python",
   "name": "python",
   "nbconvert_exporter": "python",
   "pygments_lexer": "ipython3",
   "version": "3.6.9"
  }
 },
 "nbformat": 4,
 "nbformat_minor": 2
}
