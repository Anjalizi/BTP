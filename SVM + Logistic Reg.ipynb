{
 "cells": [
  {
   "cell_type": "code",
   "execution_count": 19,
   "metadata": {},
   "outputs": [],
   "source": [
    "import pandas as pd\n",
    "import math\n",
    "from sklearn import model_selection\n",
    "from sklearn import svm\n",
    "import pyswarms as ps\n",
    "import numpy as np\n",
    "from sklearn.metrics import mean_squared_error"
   ]
  },
  {
   "cell_type": "code",
   "execution_count": 20,
   "metadata": {},
   "outputs": [],
   "source": [
    "data = pd.read_csv('parkinsons.csv', delimiter=',')"
   ]
  },
  {
   "cell_type": "code",
   "execution_count": 65,
   "metadata": {},
   "outputs": [],
   "source": [
    "x = data.drop(columns=['name', 'status']).to_numpy()\n",
    "y = data['status'].to_numpy()"
   ]
  },
  {
   "cell_type": "code",
   "execution_count": 47,
   "metadata": {},
   "outputs": [
    {
     "data": {
      "text/plain": [
       "(195, 4)"
      ]
     },
     "execution_count": 47,
     "metadata": {},
     "output_type": "execute_result"
    }
   ],
   "source": [
    "# four best features as per mid sems\n",
    "x = data[['HNR','RPDE','DFA','PPE']]\n",
    "x.shape\n",
    "\n",
    "# set 1 as per correlation coeff -> 83.58% training, 78.46% testing\n",
    "# x = data[['MDVP:Jitter(Abs)','MDVP:RAP','MDVP:PPQ','Jitter:DDP']]\n",
    "# x.shape"
   ]
  },
  {
   "cell_type": "code",
   "execution_count": 66,
   "metadata": {},
   "outputs": [],
   "source": [
    "# 60% training set and 40% testing set\n",
    "x_train, x_test, y_train, y_test = model_selection.train_test_split(x, y, test_size=0.4, random_state=0)"
   ]
  },
  {
   "cell_type": "code",
   "execution_count": 67,
   "metadata": {},
   "outputs": [],
   "source": [
    "# SVM PARAMETER TUNING WITH C=2 \n",
    "model_svm = svm.SVC(kernel='linear', C=0.87, gamma=0.61, degree=1000).fit(x_train, y_train)"
   ]
  },
  {
   "cell_type": "code",
   "execution_count": 68,
   "metadata": {},
   "outputs": [
    {
     "data": {
      "text/plain": [
       "0.9102564102564102"
      ]
     },
     "execution_count": 68,
     "metadata": {},
     "output_type": "execute_result"
    }
   ],
   "source": [
    "model_svm.score(x_test, y_test)"
   ]
  },
  {
   "cell_type": "code",
   "execution_count": null,
   "metadata": {},
   "outputs": [],
   "source": [
    "# max_score = 0\n",
    "# best_c = 1\n",
    "# for x in range(1,100):\n",
    "#     model = svm.SVC(C=x, kernel='linear', degree=3).fit(x_train, y_train)\n",
    "#     score = model.score(x_test, y_test)\n",
    "#     print(score)\n",
    "#     if(score > max_score):\n",
    "#         max_score = score\n",
    "#         best_c = x\n",
    "\n",
    "# print(max_score)\n",
    "# print(best_c)\n",
    "\n",
    "# 92.30769230769231% at c=2"
   ]
  },
  {
   "cell_type": "code",
   "execution_count": 72,
   "metadata": {},
   "outputs": [],
   "source": [
    "def fitness_function(position):\n",
    "    svmClassifier = svm.SVC(kernel='linear', gamma=position[0], C=position[1])\n",
    "    svmClassifier.fit(x_train, y_train)\n",
    "    y_train_pred = svmClassifier.predict(x_train)\n",
    "    y_test_pred = svmClassifier.predict(x_test)\n",
    "    mse_test = mean_squared_error(y_test, y_test_pred)\n",
    "    rmse_test = math.sqrt(mse_test)\n",
    "    print('Optimizing the Parameters ..... C = {c}, Gamma = {gamma}'.format(c=position[1], gamma=position[0]))\n",
    "    mse_train = mean_squared_error(y_train, y_train_pred)\n",
    "    rmse_train = math.sqrt(mse_train)\n",
    "    # list(range(mse_f_train, rmse_f_train))\n",
    "    retVal= [rmse_train, rmse_test] #Return a vector instead of single value. you can use the rmse_test and ignore rmse_train\n",
    "    return retVal"
   ]
  },
  {
   "cell_type": "code",
   "execution_count": 73,
   "metadata": {},
   "outputs": [],
   "source": [
    "def f(x):\n",
    "    n_particles = x.shape[0]\n",
    "    j = [fitness_function(x[i]) for i in range(n_particles)]\n",
    "    return np.array(j)"
   ]
  },
  {
   "cell_type": "code",
   "execution_count": 74,
   "metadata": {},
   "outputs": [
    {
     "name": "stderr",
     "output_type": "stream",
     "text": [
      "2019-12-10 22:26:05,306 - pyswarms.single.global_best - INFO - Optimize for 1000 iters with {'c1': 0.5, 'c2': 0.3, 'w': 0.9}\n",
      "\n",
      "\n",
      "\n",
      "\n",
      "pyswarms.single.global_best:   0%|          |0/1000\u001b[A\u001b[A\u001b[A\u001b[A"
     ]
    },
    {
     "name": "stdout",
     "output_type": "stream",
     "text": [
      "Optimizing the Parameters ..... C = 0.6055649229846342, Gamma = 0.20722079199385512\n",
      "Optimizing the Parameters ..... C = 0.8220484743684939, Gamma = 0.23209879859473836\n",
      "Optimizing the Parameters ..... C = 0.34593487140260337, Gamma = 0.6696828497750937\n",
      "Optimizing the Parameters ..... C = 0.679859111818788, Gamma = 0.816186818959687\n",
      "Optimizing the Parameters ..... C = 0.9382621781299658, Gamma = 0.8599937851251234\n",
      "Optimizing the Parameters ..... C = 0.3861414403785537, Gamma = 0.24073090240880823\n",
      "Optimizing the Parameters ..... C = 0.9382807720334687, Gamma = 0.02808993107732094\n",
      "Optimizing the Parameters ..... C = 0.18542544749211165, Gamma = 0.3600198994562105\n",
      "Optimizing the Parameters ..... C = 0.8195372303649079, Gamma = 0.9368831528524014\n",
      "Optimizing the Parameters ..... C = 0.15863306937590638, Gamma = 0.7473254690148801\n",
      "Optimizing the Parameters ..... C = 0.9333456480897491, Gamma = 0.8981040223379068\n",
      "Optimizing the Parameters ..... C = 0.8196730626973008, Gamma = 0.646183134990018\n",
      "Optimizing the Parameters ..... C = 0.7122460371513328, Gamma = 0.2571099496324267\n",
      "Optimizing the Parameters ..... C = 0.3392045495460613, Gamma = 0.5697974589618368\n",
      "Optimizing the Parameters ..... C = 0.22712865182252717, Gamma = 0.7301885142482265\n",
      "Optimizing the Parameters ..... C = 0.5614466841458009, Gamma = 0.31336193158910264\n",
      "Optimizing the Parameters ..... C = 0.6406243860433214, Gamma = 0.0024246189503434046\n",
      "Optimizing the Parameters ..... C = 0.7603451531214731, Gamma = 0.6756661417938239\n",
      "Optimizing the Parameters ..... C = 0.4540369260107471, Gamma = 0.7433808662025856\n",
      "Optimizing the Parameters ..... C = 0.21738129567635733, Gamma = 0.8466632717994347\n",
      "Optimizing the Parameters ..... C = 0.39317751820539226, Gamma = 0.23386440778025364\n",
      "Optimizing the Parameters ..... C = 0.44049492328833073, Gamma = 0.3694605493815034\n",
      "Optimizing the Parameters ..... C = 0.7085859961166935, Gamma = 0.39088331423239586\n",
      "Optimizing the Parameters ..... C = 0.3268482590895456, Gamma = 0.5803446666831276\n",
      "Optimizing the Parameters ..... C = 0.6454289826269182, Gamma = 0.16420481274754128\n",
      "Optimizing the Parameters ..... C = 0.6756181219351055, Gamma = 0.5609471350466353\n",
      "Optimizing the Parameters ..... C = 0.11556521902507366, Gamma = 0.3594848141298689\n",
      "Optimizing the Parameters ..... C = 0.8519467415250956, Gamma = 0.025954440492129693\n",
      "Optimizing the Parameters ..... C = 0.24481155406766486, Gamma = 0.5846138257676508\n",
      "Optimizing the Parameters ..... C = 0.823904025290828, Gamma = 0.8531991899494112\n",
      "Optimizing the Parameters ..... C = 0.5862176390552523, Gamma = 0.6869936074304729\n",
      "Optimizing the Parameters ..... C = 0.9632407076433548, Gamma = 0.33763987134622453\n",
      "Optimizing the Parameters ..... C = 0.7189712186215699, Gamma = 0.6812396714355011\n",
      "Optimizing the Parameters ..... C = 0.827116270941886, Gamma = 0.9482452021287058\n",
      "Optimizing the Parameters ..... C = 0.9064062782280955, Gamma = 0.6693864410247197\n",
      "Optimizing the Parameters ..... C = 0.25582300780685063, Gamma = 0.651352155711874\n",
      "Optimizing the Parameters ..... C = 0.37658500696539055, Gamma = 0.527037196897909\n",
      "Optimizing the Parameters ..... C = 0.16999641782967845, Gamma = 0.7789976426163867\n",
      "Optimizing the Parameters ..... C = 0.1764584996087919, Gamma = 0.39710068343445815\n",
      "Optimizing the Parameters ..... C = 0.9121510366677045, Gamma = 0.605536280645777\n",
      "Optimizing the Parameters ..... C = 0.9154499517370165, Gamma = 0.8506438655821328\n",
      "Optimizing the Parameters ..... C = 0.7113939826858734, Gamma = 0.10147146295317344\n",
      "Optimizing the Parameters ..... C = 0.061785562341615474, Gamma = 0.5628629537485952\n",
      "Optimizing the Parameters ..... C = 0.8297173162119087, Gamma = 0.8162470503125284\n",
      "Optimizing the Parameters ..... C = 0.08802490273442676, Gamma = 0.5921043571280451\n",
      "Optimizing the Parameters ..... C = 0.5939467898595333, Gamma = 0.2076546214185797\n",
      "Optimizing the Parameters ..... C = 0.012145044158790363, Gamma = 0.845079077617111\n",
      "Optimizing the Parameters ..... C = 0.42212439469342566, Gamma = 0.048331095354942843\n",
      "Optimizing the Parameters ..... C = 0.4767110539475854, Gamma = 0.9858373106833133\n",
      "Optimizing the Parameters ..... C = 0.6680034367650185, Gamma = 0.6402996114972168\n",
      "Optimizing the Parameters ..... C = 0.4865846404556391, Gamma = 0.13074110860194232\n",
      "Optimizing the Parameters ..... C = 0.6555227303409193, Gamma = 0.06328325679620117\n",
      "Optimizing the Parameters ..... C = 0.14502427334019852, Gamma = 0.6195803202825785\n",
      "Optimizing the Parameters ..... C = 0.9051323809175731, Gamma = 0.6891218848755596\n",
      "Optimizing the Parameters ..... C = 0.4957617105182631, Gamma = 0.29458877982511333\n",
      "Optimizing the Parameters ..... C = 0.7291436497096568, Gamma = 0.43233245197333015\n",
      "Optimizing the Parameters ..... C = 0.1845878966239637, Gamma = 0.23946025629471357\n",
      "Optimizing the Parameters ..... C = 0.9075322686828824, Gamma = 0.18086872448377256\n",
      "Optimizing the Parameters ..... C = 0.36174316380722005, Gamma = 0.7821392866801201\n",
      "Optimizing the Parameters ..... C = 0.03572504214890315, Gamma = 0.1556864299721047\n",
      "Optimizing the Parameters ..... C = 0.4494219058819844, Gamma = 0.0528557392749589\n",
      "Optimizing the Parameters ..... C = 0.9491644727586369, Gamma = 0.5447034260247248\n",
      "Optimizing the Parameters ..... C = 0.26944542615907796, Gamma = 0.7377901482468366\n",
      "Optimizing the Parameters ..... C = 0.4416474456526849, Gamma = 0.23163649260814934\n",
      "Optimizing the Parameters ..... C = 0.9673468487366397, Gamma = 0.9991962654750062\n",
      "Optimizing the Parameters ..... C = 0.4797877048737844, Gamma = 0.3545028283655278\n",
      "Optimizing the Parameters ..... C = 0.5750603198682656, Gamma = 0.10733800960491491\n",
      "Optimizing the Parameters ..... C = 0.4390199770257236, Gamma = 0.4990228834099226\n",
      "Optimizing the Parameters ..... C = 0.9267568480814504, Gamma = 0.4208969244501095\n",
      "Optimizing the Parameters ..... C = 0.4662918136247749, Gamma = 0.906071925238768\n",
      "Optimizing the Parameters ..... C = 0.352291591076368, Gamma = 0.5312661418563499\n",
      "Optimizing the Parameters ..... C = 0.968062444048984, Gamma = 0.4384259098193176\n",
      "Optimizing the Parameters ..... C = 0.9876215451567554, Gamma = 0.33994509754977653\n",
      "Optimizing the Parameters ..... C = 0.12368265900474318, Gamma = 0.1664655671227543\n",
      "Optimizing the Parameters ..... C = 0.7407797913333428, Gamma = 0.4513175827288398\n",
      "Optimizing the Parameters ..... C = 0.8749807214965901, Gamma = 0.746020218100055\n",
      "Optimizing the Parameters ..... C = 0.9770054322750354, Gamma = 0.19461436810625743\n",
      "Optimizing the Parameters ..... C = 0.402429671653758, Gamma = 0.4252237895248635\n",
      "Optimizing the Parameters ..... C = 0.29959342849576054, Gamma = 0.17296973852054964\n",
      "Optimizing the Parameters ..... C = 0.8445369413069657, Gamma = 0.3504074406374458\n",
      "Optimizing the Parameters ..... C = 0.39889849228910035, Gamma = 0.9053245325581858\n",
      "Optimizing the Parameters ..... C = 0.9622625898259584, Gamma = 0.4811659917176839\n",
      "Optimizing the Parameters ..... C = 0.5964208722730869, Gamma = 0.1993965616816602\n",
      "Optimizing the Parameters ..... C = 0.3487471838545869, Gamma = 0.21631803969896302\n",
      "Optimizing the Parameters ..... C = 0.41118430707726494, Gamma = 0.19729281400350795\n",
      "Optimizing the Parameters ..... C = 0.5138726308416528, Gamma = 0.9362324717902539\n",
      "Optimizing the Parameters ..... C = 0.14289066236592063, Gamma = 0.8948512360548769\n",
      "Optimizing the Parameters ..... C = 0.5697137827563086, Gamma = 0.9469437541461769\n",
      "Optimizing the Parameters ..... C = 0.9530672935823162, Gamma = 0.19787322428680065\n",
      "Optimizing the Parameters ..... C = 0.9135446809877888, Gamma = 0.24961583036753\n",
      "Optimizing the Parameters ..... C = 0.21313027171121113, Gamma = 0.33623701240625137\n",
      "Optimizing the Parameters ..... C = 0.6896028166001295, Gamma = 0.10199765972241615\n",
      "Optimizing the Parameters ..... C = 0.20583485203443275, Gamma = 0.8406279745713522\n",
      "Optimizing the Parameters ..... C = 0.7715126306051718, Gamma = 0.04729024551915406\n",
      "Optimizing the Parameters ..... C = 0.2686866215309667, Gamma = 0.4895801711922282\n",
      "Optimizing the Parameters ..... C = 0.6051449230196493, Gamma = 0.24601000326755607\n",
      "Optimizing the Parameters ..... C = 0.23266375270045525, Gamma = 0.23652495851064914\n",
      "Optimizing the Parameters ..... C = 0.46369023417107225, Gamma = 0.06376784254842094\n",
      "Optimizing the Parameters ..... C = 0.7764401913388062, Gamma = 0.8382157269752899\n",
      "Optimizing the Parameters ..... C = 0.31823130531968347, Gamma = 0.14758519993498143\n"
     ]
    },
    {
     "ename": "ValueError",
     "evalue": "operands could not be broadcast together with shapes (100,2) (100,) ",
     "output_type": "error",
     "traceback": [
      "\u001b[0;31m---------------------------------------------------------------------------\u001b[0m",
      "\u001b[0;31mValueError\u001b[0m                                Traceback (most recent call last)",
      "\u001b[0;32m<ipython-input-74-5cca05dd4552>\u001b[0m in \u001b[0;36m<module>\u001b[0;34m\u001b[0m\n\u001b[1;32m      1\u001b[0m \u001b[0moptions\u001b[0m \u001b[0;34m=\u001b[0m \u001b[0;34m{\u001b[0m\u001b[0;34m'c1'\u001b[0m\u001b[0;34m:\u001b[0m \u001b[0;36m0.5\u001b[0m\u001b[0;34m,\u001b[0m \u001b[0;34m'c2'\u001b[0m\u001b[0;34m:\u001b[0m \u001b[0;36m0.3\u001b[0m\u001b[0;34m,\u001b[0m \u001b[0;34m'w'\u001b[0m\u001b[0;34m:\u001b[0m\u001b[0;36m0.9\u001b[0m\u001b[0;34m}\u001b[0m\u001b[0;34m\u001b[0m\u001b[0m\n\u001b[1;32m      2\u001b[0m \u001b[0moptimizer\u001b[0m \u001b[0;34m=\u001b[0m \u001b[0mps\u001b[0m\u001b[0;34m.\u001b[0m\u001b[0msingle\u001b[0m\u001b[0;34m.\u001b[0m\u001b[0mGlobalBestPSO\u001b[0m\u001b[0;34m(\u001b[0m\u001b[0mn_particles\u001b[0m\u001b[0;34m=\u001b[0m\u001b[0;36m100\u001b[0m\u001b[0;34m,\u001b[0m \u001b[0mdimensions\u001b[0m\u001b[0;34m=\u001b[0m\u001b[0;36m2\u001b[0m\u001b[0;34m,\u001b[0m \u001b[0moptions\u001b[0m\u001b[0;34m=\u001b[0m\u001b[0moptions\u001b[0m\u001b[0;34m)\u001b[0m\u001b[0;34m\u001b[0m\u001b[0m\n\u001b[0;32m----> 3\u001b[0;31m \u001b[0mgamma_opt\u001b[0m\u001b[0;34m,\u001b[0m \u001b[0mC_opt\u001b[0m \u001b[0;34m=\u001b[0m \u001b[0moptimizer\u001b[0m\u001b[0;34m.\u001b[0m\u001b[0moptimize\u001b[0m\u001b[0;34m(\u001b[0m\u001b[0mf\u001b[0m\u001b[0;34m,\u001b[0m \u001b[0miters\u001b[0m\u001b[0;34m=\u001b[0m\u001b[0;36m1000\u001b[0m\u001b[0;34m)\u001b[0m\u001b[0;34m\u001b[0m\u001b[0m\n\u001b[0m",
      "\u001b[0;32m/usr/local/lib/python3.6/site-packages/pyswarms/single/global_best.py\u001b[0m in \u001b[0;36moptimize\u001b[0;34m(self, objective_func, iters, n_processes, **kwargs)\u001b[0m\n\u001b[1;32m    183\u001b[0m             \u001b[0;31m# fmt: off\u001b[0m\u001b[0;34m\u001b[0m\u001b[0;34m\u001b[0m\u001b[0m\n\u001b[1;32m    184\u001b[0m             \u001b[0mself\u001b[0m\u001b[0;34m.\u001b[0m\u001b[0mswarm\u001b[0m\u001b[0;34m.\u001b[0m\u001b[0mcurrent_cost\u001b[0m \u001b[0;34m=\u001b[0m \u001b[0mcompute_objective_function\u001b[0m\u001b[0;34m(\u001b[0m\u001b[0mself\u001b[0m\u001b[0;34m.\u001b[0m\u001b[0mswarm\u001b[0m\u001b[0;34m,\u001b[0m \u001b[0mobjective_func\u001b[0m\u001b[0;34m,\u001b[0m \u001b[0mpool\u001b[0m\u001b[0;34m=\u001b[0m\u001b[0mpool\u001b[0m\u001b[0;34m,\u001b[0m \u001b[0;34m**\u001b[0m\u001b[0mkwargs\u001b[0m\u001b[0;34m)\u001b[0m\u001b[0;34m\u001b[0m\u001b[0m\n\u001b[0;32m--> 185\u001b[0;31m             \u001b[0mself\u001b[0m\u001b[0;34m.\u001b[0m\u001b[0mswarm\u001b[0m\u001b[0;34m.\u001b[0m\u001b[0mpbest_pos\u001b[0m\u001b[0;34m,\u001b[0m \u001b[0mself\u001b[0m\u001b[0;34m.\u001b[0m\u001b[0mswarm\u001b[0m\u001b[0;34m.\u001b[0m\u001b[0mpbest_cost\u001b[0m \u001b[0;34m=\u001b[0m \u001b[0mcompute_pbest\u001b[0m\u001b[0;34m(\u001b[0m\u001b[0mself\u001b[0m\u001b[0;34m.\u001b[0m\u001b[0mswarm\u001b[0m\u001b[0;34m)\u001b[0m\u001b[0;34m\u001b[0m\u001b[0m\n\u001b[0m\u001b[1;32m    186\u001b[0m             \u001b[0;31m# Set best_cost_yet_found for ftol\u001b[0m\u001b[0;34m\u001b[0m\u001b[0;34m\u001b[0m\u001b[0m\n\u001b[1;32m    187\u001b[0m             \u001b[0mbest_cost_yet_found\u001b[0m \u001b[0;34m=\u001b[0m \u001b[0mself\u001b[0m\u001b[0;34m.\u001b[0m\u001b[0mswarm\u001b[0m\u001b[0;34m.\u001b[0m\u001b[0mbest_cost\u001b[0m\u001b[0;34m\u001b[0m\u001b[0m\n",
      "\u001b[0;32m/usr/local/lib/python3.6/site-packages/pyswarms/backend/operators.py\u001b[0m in \u001b[0;36mcompute_pbest\u001b[0;34m(swarm)\u001b[0m\n\u001b[1;32m     64\u001b[0m         \u001b[0mdimensions\u001b[0m \u001b[0;34m=\u001b[0m \u001b[0mswarm\u001b[0m\u001b[0;34m.\u001b[0m\u001b[0mdimensions\u001b[0m\u001b[0;34m\u001b[0m\u001b[0m\n\u001b[1;32m     65\u001b[0m         \u001b[0;31m# Create a 1-D and 2-D mask based from comparisons\u001b[0m\u001b[0;34m\u001b[0m\u001b[0;34m\u001b[0m\u001b[0m\n\u001b[0;32m---> 66\u001b[0;31m         \u001b[0mmask_cost\u001b[0m \u001b[0;34m=\u001b[0m \u001b[0mswarm\u001b[0m\u001b[0;34m.\u001b[0m\u001b[0mcurrent_cost\u001b[0m \u001b[0;34m<\u001b[0m \u001b[0mswarm\u001b[0m\u001b[0;34m.\u001b[0m\u001b[0mpbest_cost\u001b[0m\u001b[0;34m\u001b[0m\u001b[0m\n\u001b[0m\u001b[1;32m     67\u001b[0m         \u001b[0mmask_pos\u001b[0m \u001b[0;34m=\u001b[0m \u001b[0mnp\u001b[0m\u001b[0;34m.\u001b[0m\u001b[0mrepeat\u001b[0m\u001b[0;34m(\u001b[0m\u001b[0mmask_cost\u001b[0m\u001b[0;34m[\u001b[0m\u001b[0;34m:\u001b[0m\u001b[0;34m,\u001b[0m \u001b[0mnp\u001b[0m\u001b[0;34m.\u001b[0m\u001b[0mnewaxis\u001b[0m\u001b[0;34m]\u001b[0m\u001b[0;34m,\u001b[0m \u001b[0mdimensions\u001b[0m\u001b[0;34m,\u001b[0m \u001b[0maxis\u001b[0m\u001b[0;34m=\u001b[0m\u001b[0;36m1\u001b[0m\u001b[0;34m)\u001b[0m\u001b[0;34m\u001b[0m\u001b[0m\n\u001b[1;32m     68\u001b[0m         \u001b[0;31m# Apply masks\u001b[0m\u001b[0;34m\u001b[0m\u001b[0;34m\u001b[0m\u001b[0m\n",
      "\u001b[0;31mValueError\u001b[0m: operands could not be broadcast together with shapes (100,2) (100,) "
     ]
    }
   ],
   "source": [
    "options = {'c1': 0.5, 'c2': 0.3, 'w':0.9}\n",
    "optimizer = ps.single.GlobalBestPSO(n_particles=100, dimensions=2, options=options)\n",
    "gamma_opt, C_opt = optimizer.optimize(f, iters=1000)"
   ]
  },
  {
   "cell_type": "code",
   "execution_count": 41,
   "metadata": {},
   "outputs": [],
   "source": [
    "# PARAMETER TUNING USING GRID SEARCH CV\n",
    "from sklearn.model_selection import GridSearchCV"
   ]
  },
  {
   "cell_type": "code",
   "execution_count": 40,
   "metadata": {},
   "outputs": [
    {
     "data": {
      "text/plain": [
       "0.8076923076923077"
      ]
     },
     "execution_count": 40,
     "metadata": {},
     "output_type": "execute_result"
    }
   ],
   "source": [
    "model2 = svm.SVC(C=10, kernel='rbf', gamma=\"auto\").fit(x_train, y_train)\n",
    "model2.score(x_test, y_test)"
   ]
  },
  {
   "cell_type": "code",
   "execution_count": 39,
   "metadata": {},
   "outputs": [],
   "source": [
    "parameters = {'kernel':('rbf','linear'), 'C':range(3,100)}\n",
    "svc = svm.SVC(gamma=\"auto\")\n",
    "clf = GridSearchCV(svc, parameters, cv=5)"
   ]
  },
  {
   "cell_type": "code",
   "execution_count": 63,
   "metadata": {},
   "outputs": [],
   "source": [
    "#solo\n",
    "parameters = {'C':range(1,1000)}\n",
    "svc = svm.SVC(gamma=\"auto\", kernel='linear')\n",
    "clf = GridSearchCV(svc, parameters, cv=5)"
   ]
  },
  {
   "cell_type": "code",
   "execution_count": null,
   "metadata": {},
   "outputs": [],
   "source": [
    "clf.fit(x_train, y_train)"
   ]
  },
  {
   "cell_type": "code",
   "execution_count": 58,
   "metadata": {},
   "outputs": [
    {
     "data": {
      "text/plain": [
       "['mean_fit_time',\n",
       " 'mean_score_time',\n",
       " 'mean_test_score',\n",
       " 'param_C',\n",
       " 'params',\n",
       " 'rank_test_score',\n",
       " 'split0_test_score',\n",
       " 'split1_test_score',\n",
       " 'split2_test_score',\n",
       " 'split3_test_score',\n",
       " 'split4_test_score',\n",
       " 'std_fit_time',\n",
       " 'std_score_time',\n",
       " 'std_test_score']"
      ]
     },
     "execution_count": 58,
     "metadata": {},
     "output_type": "execute_result"
    }
   ],
   "source": [
    "sorted(clf.cv_results_.keys())"
   ]
  },
  {
   "cell_type": "code",
   "execution_count": 59,
   "metadata": {},
   "outputs": [],
   "source": [
    "y_pred = clf.predict(x_test)"
   ]
  },
  {
   "cell_type": "code",
   "execution_count": 60,
   "metadata": {},
   "outputs": [
    {
     "data": {
      "text/plain": [
       "(78, 22)"
      ]
     },
     "execution_count": 60,
     "metadata": {},
     "output_type": "execute_result"
    }
   ],
   "source": [
    "x_test.shape"
   ]
  },
  {
   "cell_type": "code",
   "execution_count": 61,
   "metadata": {},
   "outputs": [
    {
     "data": {
      "text/plain": [
       "{'C': 1}"
      ]
     },
     "execution_count": 61,
     "metadata": {},
     "output_type": "execute_result"
    }
   ],
   "source": [
    "clf.best_params_"
   ]
  },
  {
   "cell_type": "code",
   "execution_count": 62,
   "metadata": {},
   "outputs": [
    {
     "data": {
      "text/plain": [
       "<function sklearn.model_selection._search.BaseSearchCV.predict(self, X)>"
      ]
     },
     "execution_count": 62,
     "metadata": {},
     "output_type": "execute_result"
    }
   ],
   "source": [
    "clf.predict"
   ]
  },
  {
   "cell_type": "code",
   "execution_count": 42,
   "metadata": {},
   "outputs": [],
   "source": [
    "# LOGISTIC REGRESSION\n",
    "from sklearn.linear_model import LogisticRegression"
   ]
  },
  {
   "cell_type": "code",
   "execution_count": 5,
   "metadata": {},
   "outputs": [
    {
     "data": {
      "text/plain": [
       "Index(['name', 'MDVP:Fo(Hz)', 'MDVP:Fhi(Hz)', 'MDVP:Flo(Hz)', 'MDVP:Jitter(%)',\n",
       "       'MDVP:Jitter(Abs)', 'MDVP:RAP', 'MDVP:PPQ', 'Jitter:DDP',\n",
       "       'MDVP:Shimmer', 'MDVP:Shimmer(dB)', 'Shimmer:APQ3', 'Shimmer:APQ5',\n",
       "       'MDVP:APQ', 'Shimmer:DDA', 'NHR', 'HNR', 'status', 'RPDE', 'DFA',\n",
       "       'spread1', 'spread2', 'D2', 'PPE'],\n",
       "      dtype='object')"
      ]
     },
     "execution_count": 5,
     "metadata": {},
     "output_type": "execute_result"
    }
   ],
   "source": [
    "x = data.drop(columns=['name', 'status'])\n",
    "y = data['status']\n",
    "data.columns"
   ]
  },
  {
   "cell_type": "code",
   "execution_count": 230,
   "metadata": {},
   "outputs": [
    {
     "data": {
      "text/plain": [
       "(195, 7)"
      ]
     },
     "execution_count": 230,
     "metadata": {},
     "output_type": "execute_result"
    }
   ],
   "source": [
    "# four best features as per mid sems\n",
    "x = data[['HNR','RPDE','DFA','PPE']]\n",
    "x.shape\n",
    "\n",
    "# set 1 as per correlation coeff -> 83.58% training, 78.46% testing\n",
    "x = data[['MDVP:PPQ','MDVP:Shimmer', 'MDVP:Shimmer(dB)',\n",
    "          'Shimmer:APQ3', 'Shimmer:APQ5','MDVP:APQ','Shimmer:DDA']]\n",
    "x.shape"
   ]
  },
  {
   "cell_type": "code",
   "execution_count": 14,
   "metadata": {},
   "outputs": [],
   "source": [
    "# 60% training set and 40% testing set\n",
    "x_train, x_test, y_train, y_test = model_selection.train_test_split (x, y, test_size=0.33, random_state=0)"
   ]
  },
  {
   "cell_type": "code",
   "execution_count": 7,
   "metadata": {},
   "outputs": [
    {
     "name": "stderr",
     "output_type": "stream",
     "text": [
      "/usr/local/lib/python3.6/site-packages/sklearn/linear_model/logistic.py:432: FutureWarning: Default solver will be changed to 'lbfgs' in 0.22. Specify a solver to silence this warning.\n",
      "  FutureWarning)\n"
     ]
    }
   ],
   "source": [
    "clf = LogisticRegression(random_state=0).fit(x_train, y_train)"
   ]
  },
  {
   "cell_type": "code",
   "execution_count": 8,
   "metadata": {},
   "outputs": [
    {
     "data": {
      "text/plain": [
       "0.8923076923076924"
      ]
     },
     "execution_count": 8,
     "metadata": {},
     "output_type": "execute_result"
    }
   ],
   "source": [
    "clf.score(x_test, y_test)"
   ]
  }
 ],
 "metadata": {
  "kernelspec": {
   "display_name": "Python 3",
   "language": "python",
   "name": "python3"
  },
  "language_info": {
   "codemirror_mode": {
    "name": "ipython",
    "version": 3
   },
   "file_extension": ".py",
   "mimetype": "text/x-python",
   "name": "python",
   "nbconvert_exporter": "python",
   "pygments_lexer": "ipython3",
   "version": "3.6.6"
  }
 },
 "nbformat": 4,
 "nbformat_minor": 2
}
