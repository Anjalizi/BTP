{
 "cells": [
  {
   "cell_type": "code",
   "execution_count": 1,
   "metadata": {},
   "outputs": [
    {
     "name": "stdout",
     "output_type": "stream",
     "text": [
      "WARNING:tensorflow:From /home/punny/.local/lib/python3.6/site-packages/tensorflow_core/python/compat/v2_compat.py:65: disable_resource_variables (from tensorflow.python.ops.variable_scope) is deprecated and will be removed in a future version.\n",
      "Instructions for updating:\n",
      "non-resource variables are not supported in the long term\n"
     ]
    }
   ],
   "source": [
    "import tensorflow.compat.v1 as tf\n",
    "tf.disable_v2_behavior()\n",
    "import numpy as np\n",
    "import matplotlib.pyplot as plt\n",
    "import pandas as pd\n",
    "import seaborn as sns\n",
    "from math import floor, ceil\n",
    "from pylab import rcParams\n",
    "from sklearn import model_selection\n",
    "from tensorflow.python.framework import ops"
   ]
  },
  {
   "cell_type": "code",
   "execution_count": 2,
   "metadata": {},
   "outputs": [
    {
     "data": {
      "text/plain": [
       "Index(['name', 'MDVP:Fo(Hz)', 'MDVP:Fhi(Hz)', 'MDVP:Flo(Hz)', 'MDVP:Jitter(%)',\n",
       "       'MDVP:Jitter(Abs)', 'MDVP:RAP', 'MDVP:PPQ', 'Jitter:DDP',\n",
       "       'MDVP:Shimmer', 'MDVP:Shimmer(dB)', 'Shimmer:APQ3', 'Shimmer:APQ5',\n",
       "       'MDVP:APQ', 'Shimmer:DDA', 'NHR', 'HNR', 'status', 'RPDE', 'DFA',\n",
       "       'spread1', 'spread2', 'D2', 'PPE'],\n",
       "      dtype='object')"
      ]
     },
     "execution_count": 2,
     "metadata": {},
     "output_type": "execute_result"
    }
   ],
   "source": [
    "data = pd.read_csv('parkinsons.csv', delimiter=',')\n",
    "data.columns"
   ]
  },
  {
   "cell_type": "code",
   "execution_count": 3,
   "metadata": {},
   "outputs": [
    {
     "data": {
      "text/plain": [
       "(195, 4)"
      ]
     },
     "execution_count": 3,
     "metadata": {},
     "output_type": "execute_result"
    }
   ],
   "source": [
    "# Store the features as X and the labels as y\n",
    "X = data.drop(columns=['name', 'status'])\n",
    "y = data['status']\n",
    "\n",
    "# 2. four best features as per mid sems\n",
    "X = data[['HNR','RPDE','DFA','PPE']]\n",
    "X.shape\n",
    "\n",
    "# # 3. Two-factor components analysis as in file:///home/punny/Downloads/parkinson--published-IJSS%20(1).pdf\n",
    "# X = data[['MDVP:PPQ', 'MDVP:Shimmer', 'MDVP:Shimmer(dB)', 'Shimmer:APQ3', 'Shimmer:APQ5', 'MDVP:APQ','Shimmer:DDA']].to_numpy()\n",
    "# X.shape\n",
    "\n",
    "# # 4. 2nd best Two-factor components analysis\n",
    "# X = data[['MDVP:Jitter(%)','MDVP:Jitter(Abs)', 'MDVP:RAP', 'PPE', 'Jitter:DDP','NHR']].to_numpy()\n",
    "# X.shape"
   ]
  },
  {
   "cell_type": "code",
   "execution_count": 4,
   "metadata": {},
   "outputs": [
    {
     "data": {
      "image/png": "[encoded data removed]",
      "text/plain": [
       "<Figure size 432x288 with 1 Axes>"
      ]
     },
     "metadata": {
      "needs_background": "light"
     },
     "output_type": "display_data"
    }
   ],
   "source": [
    "data.status.value_counts().plot(kind=\"bar\", rot=0);"
   ]
  },
  {
   "cell_type": "code",
   "execution_count": 5,
   "metadata": {},
   "outputs": [],
   "source": [
    "# CORRELATION\n",
    "# corr_mat = data.corr() \n",
    "# fig, ax = plt.subplots(figsize=(20, 12)) \n",
    "# sns.heatmap(corr_mat, vmax=1.0, square=True, ax=ax);"
   ]
  },
  {
   "cell_type": "code",
   "execution_count": 6,
   "metadata": {},
   "outputs": [],
   "source": [
    "# 67% training set and 33% testing set\n",
    "x_train, x_test, y_train, y_test = model_selection.train_test_split (X, y, test_size=0.33, random_state=0)\n",
    "y_train = pd.get_dummies(y_train)\n",
    "y_train.shape\n",
    "\n",
    "y_test = pd.get_dummies(y_test)"
   ]
  },
  {
   "cell_type": "code",
   "execution_count": 7,
   "metadata": {},
   "outputs": [],
   "source": [
    "n_input_features = x_train.shape[1]\n",
    "n_input_features\n",
    "n_train_samples = x_train.shape[0]"
   ]
  },
  {
   "cell_type": "code",
   "execution_count": 8,
   "metadata": {},
   "outputs": [],
   "source": [
    "# Create and train a tensorflow model of a neural network\n",
    "def create_train_model(hidden_nodes, num_iters):\n",
    "    \n",
    "    # Reset the graph\n",
    "    ops.reset_default_graph()\n",
    "\n",
    "    # Placeholders for input and output data\n",
    "    X = tf.placeholder(shape=(n_train_samples, n_input_features), dtype=tf.float64, name='x_train')\n",
    "    y = tf.placeholder(shape=(n_train_samples, 2), dtype=tf.float64, name='y_train')\n",
    "\n",
    "    # Variables for two group of weights between the three layers of the network\n",
    "    W1 = tf.Variable(np.random.rand(n_input_features, hidden_nodes), dtype=tf.float64)\n",
    "    W2 = tf.Variable(np.random.rand(hidden_nodes, 2), dtype=tf.float64)\n",
    "\n",
    "    # Create the neural net graph\n",
    "    # A1 = tf.sigmoid(tf.matmul(X, W1))\n",
    "    A1 = tf.math.tanh(tf.matmul(X, W1))\n",
    "    y_est = tf.math.tanh(tf.matmul(A1, W2))\n",
    "\n",
    "    # Define a loss function\n",
    "    deltas = tf.square(y_est - y)\n",
    "    loss = tf.reduce_sum(deltas)\n",
    "\n",
    "    # Define a train operation to minimize the loss\n",
    "    optimizer = tf.train.AdamOptimizer(0.001)\n",
    "    train = optimizer.minimize(loss)\n",
    "\n",
    "    # Initialize variables and run session\n",
    "    init = tf.global_variables_initializer()\n",
    "    sess = tf.Session()\n",
    "    sess.run(init)\n",
    "\n",
    "    # Go through num_iters iterations\n",
    "    for i in range(num_iters):\n",
    "        sess.run(train, feed_dict={X: x_train, y: y_train})\n",
    "        loss_plot[hidden_nodes].append(sess.run(loss, feed_dict={X: x_train.values, y: y_train.values}))\n",
    "        weights1 = sess.run(W1)\n",
    "        weights2 = sess.run(W2)\n",
    "        \n",
    "    print(\"loss (hidden nodes: %d, iterations: %d): %.2f\" % (hidden_nodes, num_iters, loss_plot[hidden_nodes][-1]))\n",
    "    sess.close()\n",
    "    return weights1, weights2"
   ]
  },
  {
   "cell_type": "code",
   "execution_count": 9,
   "metadata": {},
   "outputs": [
    {
     "name": "stdout",
     "output_type": "stream",
     "text": [
      "loss (hidden nodes: 1, iterations: 2000): 50.24\n",
      "loss (hidden nodes: 2, iterations: 2000): 45.60\n",
      "loss (hidden nodes: 3, iterations: 2000): 36.46\n",
      "loss (hidden nodes: 4, iterations: 2000): 37.13\n"
     ]
    },
    {
     "data": {
      "text/plain": [
       "<matplotlib.legend.Legend at 0x7ffa6aaff160>"
      ]
     },
     "execution_count": 9,
     "metadata": {},
     "output_type": "execute_result"
    },
    {
     "data": {
      "image/png": "[encoded data removed]",
      "text/plain": [
       "<Figure size 720x432 with 1 Axes>"
      ]
     },
     "metadata": {
      "needs_background": "light"
     },
     "output_type": "display_data"
    }
   ],
   "source": [
    "# Run the training for 3 different network architectures: (4-5-3) (4-10-3) (4-20-3)\n",
    "\n",
    "# Plot the loss function over iterations\n",
    "num_hidden_nodes = [1, 2, 3, 4]\n",
    "loss_plot = {1: [], 2: [], 3: [], 4: []}\n",
    "weights1 = {1: None, 2: None, 3: None, 4: None}\n",
    "weights2 = {1: None, 2: None, 3: None, 4: None}\n",
    "num_iters = 2000\n",
    "\n",
    "plt.figure(figsize=(10,6))\n",
    "for hidden_nodes in num_hidden_nodes:\n",
    "    weights1[hidden_nodes], weights2[hidden_nodes] = create_train_model(hidden_nodes, num_iters)\n",
    "    plt.plot(range(num_iters), loss_plot[hidden_nodes], label=\"nn: 4-%d-2\" % hidden_nodes)\n",
    "    \n",
    "plt.xlabel('Iteration', fontsize=12)\n",
    "plt.ylabel('Loss', fontsize=12)\n",
    "plt.legend(fontsize=12)"
   ]
  },
  {
   "cell_type": "code",
   "execution_count": 10,
   "metadata": {},
   "outputs": [
    {
     "name": "stdout",
     "output_type": "stream",
     "text": [
      "Network architecture 4-1-2, accuracy: 78.46%\n",
      "Network architecture 4-2-2, accuracy: 78.46%\n",
      "Network architecture 4-3-2, accuracy: 87.69%\n",
      "Network architecture 4-4-2, accuracy: 86.15%\n"
     ]
    },
    {
     "name": "stderr",
     "output_type": "stream",
     "text": [
      "/usr/local/lib/python3.6/site-packages/ipykernel_launcher.py:22: FutureWarning: Method .as_matrix will be removed in a future version. Use .values instead.\n"
     ]
    }
   ],
   "source": [
    "n_test_samples = x_test.shape[0]\n",
    "# Evaluate models on the test set\n",
    "X = tf.placeholder(shape=(n_test_samples, n_input_features), dtype=tf.float64, name='x_test')\n",
    "y = tf.placeholder(shape=(n_test_samples, 2), dtype=tf.float64, name='y_test')\n",
    "\n",
    "for hidden_nodes in num_hidden_nodes:\n",
    "\n",
    "    # Forward propagation\n",
    "    W1 = tf.Variable(weights1[hidden_nodes])\n",
    "    W2 = tf.Variable(weights2[hidden_nodes])\n",
    "    A1 = tf.math.tanh(tf.matmul(X, W1))\n",
    "    y_est = tf.math.tanh(tf.matmul(A1, W2))\n",
    "\n",
    "    # Calculate the predicted outputs\n",
    "    init = tf.global_variables_initializer()\n",
    "    with tf.Session() as sess:\n",
    "        sess.run(init)\n",
    "        y_est_np = sess.run(y_est, feed_dict={X: x_test, y: y_test})\n",
    "\n",
    "    # Calculate the prediction accuracy\n",
    "    correct = [estimate.argmax(axis=0) == target.argmax(axis=0) \n",
    "               for estimate, target in zip(y_est_np, y_test.as_matrix())]\n",
    "    accuracy = 100 * sum(correct) / len(correct)\n",
    "    print('Network architecture 4-%d-2, accuracy: %.2f%%' % (hidden_nodes, accuracy))"
   ]
  }
 ],
 "metadata": {
  "kernelspec": {
   "display_name": "Python 3",
   "language": "python",
   "name": "python3"
  },
  "language_info": {
   "codemirror_mode": {
    "name": "ipython",
    "version": 3
   },
   "file_extension": ".py",
   "mimetype": "text/x-python",
   "name": "python",
   "nbconvert_exporter": "python",
   "pygments_lexer": "ipython3",
   "version": "3.6.6"
  }
 },
 "nbformat": 4,
 "nbformat_minor": 2
}
