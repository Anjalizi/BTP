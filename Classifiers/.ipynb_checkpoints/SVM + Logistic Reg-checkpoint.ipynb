{
 "cells": [
  {
   "cell_type": "code",
   "execution_count": 4,
   "metadata": {},
   "outputs": [],
   "source": [
    "import pandas as pd\n",
    "import math\n",
    "from sklearn import model_selection\n",
    "from sklearn import svm\n",
    "import pyswarms as ps\n",
    "import numpy as np\n",
    "from sklearn.metrics import mean_squared_error"
   ]
  },
  {
   "cell_type": "code",
   "execution_count": 5,
   "metadata": {},
   "outputs": [],
   "source": [
    "data = pd.read_csv('parkinsons.csv', delimiter=',')"
   ]
  },
  {
   "cell_type": "code",
   "execution_count": 110,
   "metadata": {},
   "outputs": [],
   "source": [
    "x = data.drop(columns=['name', 'status']).to_numpy()\n",
    "y = data['status'].to_numpy()"
   ]
  },
  {
   "cell_type": "code",
   "execution_count": 111,
   "metadata": {},
   "outputs": [
    {
     "data": {
      "text/plain": [
       "(195, 4)"
      ]
     },
     "execution_count": 111,
     "metadata": {},
     "output_type": "execute_result"
    }
   ],
   "source": [
    "# four best features as per mid sems\n",
    "x = data[['HNR','RPDE','DFA','PPE']]\n",
    "x.shape\n",
    "\n",
    "# set 1 as per correlation coeff -> 83.58% training, 78.46% testing\n",
    "# x = data[['MDVP:Jitter(Abs)','MDVP:RAP','MDVP:PPQ','Jitter:DDP']]\n",
    "# x.shape"
   ]
  },
  {
   "cell_type": "code",
   "execution_count": 112,
   "metadata": {},
   "outputs": [],
   "source": [
    "# 60% training set and 40% testing set\n",
    "x_train, x_test, y_train, y_test = model_selection.train_test_split(x, y, test_size=0.4, random_state=0)"
   ]
  },
  {
   "cell_type": "code",
   "execution_count": 113,
   "metadata": {},
   "outputs": [],
   "source": [
    "# SVM PARAMETER TUNING WITH C=2 \n",
    "model_svm = svm.SVC(kernel='linear', C=0.87, gamma=0.61, degree=1000).fit(x_train, y_train)"
   ]
  },
  {
   "cell_type": "code",
   "execution_count": 114,
   "metadata": {},
   "outputs": [
    {
     "data": {
      "text/plain": [
       "0.782051282051282"
      ]
     },
     "execution_count": 114,
     "metadata": {},
     "output_type": "execute_result"
    }
   ],
   "source": [
    "model_svm.score(x_test, y_test)"
   ]
  },
  {
   "cell_type": "code",
   "execution_count": 115,
   "metadata": {},
   "outputs": [],
   "source": [
    "# max_score = 0\n",
    "# best_c = 1\n",
    "# for x in range(1,100):\n",
    "#     model = svm.SVC(C=x, kernel='linear', degree=3).fit(x_train, y_train)\n",
    "#     score = model.score(x_test, y_test)\n",
    "#     print(score)\n",
    "#     if(score > max_score):\n",
    "#         max_score = score\n",
    "#         best_c = x\n",
    "\n",
    "# print(max_score)\n",
    "# print(best_c)\n",
    "\n",
    "# 92.30769230769231% at c=2"
   ]
  },
  {
   "cell_type": "code",
   "execution_count": 128,
   "metadata": {},
   "outputs": [],
   "source": [
    "def fitness_function(position):\n",
    "    svmClassifier = svm.SVC(kernel='linear', gamma=position[0], C=position[1])\n",
    "    svmClassifier.fit(x_train, y_train)\n",
    "    y_train_pred = svmClassifier.predict(x_train)\n",
    "    y_test_pred = svmClassifier.predict(x_test)\n",
    "    mse_test = mean_squared_error(y_test, y_test_pred)\n",
    "    rmse_test = math.sqrt(mse_test)\n",
    "    print('Optimizing the Parameters ..... C = {c}, Gamma = {gamma}'.format(c=position[1], gamma=position[0]))\n",
    "    mse_train = mean_squared_error(y_train, y_train_pred)\n",
    "    rmse_train = math.sqrt(mse_train)\n",
    "    # list(range(mse_f_train, rmse_f_train))\n",
    "    retVal= [rmse_train, rmse_test] #Return a vector instead of single value. you can use the rmse_test and ignore rmse_train\n",
    "    return retVal"
   ]
  },
  {
   "cell_type": "code",
   "execution_count": 131,
   "metadata": {},
   "outputs": [],
   "source": [
    "def f(x):\n",
    "    n_particles = x.shape[0]\n",
    "    j = [fitness_function(x[i]) for i in range(n_particles)]\n",
    "    return np.array(j)"
   ]
  },
  {
   "cell_type": "code",
   "execution_count": 132,
   "metadata": {},
   "outputs": [
    {
     "name": "stderr",
     "output_type": "stream",
     "text": [
      "2020-04-23 16:41:38,996 - pyswarms.single.global_best - INFO - Optimize for 1000 iters with {'c1': 0.5, 'c2': 0.3, 'w': 0.9}\n",
      "pyswarms.single.global_best:   0%|          |0/1000"
     ]
    },
    {
     "name": "stdout",
     "output_type": "stream",
     "text": [
      "Optimizing the Parameters ..... C = 0.19586036677931107, Gamma = 0.961182655730494\n",
      "Optimizing the Parameters ..... C = 0.7555127779223627, Gamma = 0.7542624403055378\n",
      "Optimizing the Parameters ..... C = 0.41217698678911174, Gamma = 0.6390273330593582\n",
      "Optimizing the Parameters ..... C = 0.5643065793245308, Gamma = 0.004194827345897378\n",
      "Optimizing the Parameters ..... C = 0.9290278959435665, Gamma = 0.6112985538237612\n",
      "Optimizing the Parameters ..... C = 0.7834853058239132, Gamma = 0.24247660581564368\n",
      "Optimizing the Parameters ..... C = 0.24652096984551575, Gamma = 0.877697139681332\n",
      "Optimizing the Parameters ..... C = 0.07736766966031117, Gamma = 0.7102829933984856\n",
      "Optimizing the Parameters ..... C = 0.3501225239270095, Gamma = 0.5878982615577072\n",
      "Optimizing the Parameters ..... C = 0.04921613875334818, Gamma = 0.004383196328264338\n",
      "Optimizing the Parameters ..... C = 0.051170919522069425, Gamma = 0.8149420563491104\n",
      "Optimizing the Parameters ..... C = 0.18706495904623976, Gamma = 0.7729390138033486\n",
      "Optimizing the Parameters ..... C = 0.7262318174625646, Gamma = 0.17484810412557905\n",
      "Optimizing the Parameters ..... C = 0.3399240926100767, Gamma = 0.4215288929553571\n",
      "Optimizing the Parameters ..... C = 0.7852000181157922, Gamma = 0.8249621576643144\n",
      "Optimizing the Parameters ..... C = 0.4310647811572731, Gamma = 0.8958847204969071\n",
      "Optimizing the Parameters ..... C = 0.05186916494254579, Gamma = 0.2134649226549239\n",
      "Optimizing the Parameters ..... C = 0.25623946926641283, Gamma = 0.9611148196999286\n",
      "Optimizing the Parameters ..... C = 0.266927549142276, Gamma = 0.5137759382748813\n",
      "Optimizing the Parameters ..... C = 0.019235552074993945, Gamma = 0.87734429464525\n",
      "Optimizing the Parameters ..... C = 0.9497756309536712, Gamma = 0.22041036401659175\n",
      "Optimizing the Parameters ..... C = 0.0954606972748413, Gamma = 0.7028941108281064\n",
      "Optimizing the Parameters ..... C = 0.3158661657996804, Gamma = 0.3658768361277671\n",
      "Optimizing the Parameters ..... C = 0.06421902007883107, Gamma = 0.5005433193846887\n",
      "Optimizing the Parameters ..... C = 0.08953220376231841, Gamma = 0.5329767652849255\n",
      "Optimizing the Parameters ..... C = 0.8953039825939201, Gamma = 0.3440774011645138\n",
      "Optimizing the Parameters ..... C = 0.8122642895600367, Gamma = 0.6292511838853275\n",
      "Optimizing the Parameters ..... C = 0.6148192423953881, Gamma = 0.6386891193892744\n",
      "Optimizing the Parameters ..... C = 0.018755781253926296, Gamma = 0.7756083306704742\n",
      "Optimizing the Parameters ..... C = 0.15842601884992458, Gamma = 0.4182523035850261\n",
      "Optimizing the Parameters ..... C = 0.2537391259361277, Gamma = 0.34276151826617696\n",
      "Optimizing the Parameters ..... C = 0.18367259774966904, Gamma = 0.9425133263912854\n",
      "Optimizing the Parameters ..... C = 0.13094711084036303, Gamma = 0.9075427470046257\n",
      "Optimizing the Parameters ..... C = 0.3672664400406068, Gamma = 0.744506807768292\n",
      "Optimizing the Parameters ..... C = 0.5048568398964658, Gamma = 0.16661224655266305\n",
      "Optimizing the Parameters ..... C = 0.9754029480530719, Gamma = 0.23018778483105207\n",
      "Optimizing the Parameters ..... C = 0.9965294112463285, Gamma = 0.5305220697455345\n",
      "Optimizing the Parameters ..... C = 0.5988632656787704, Gamma = 0.5799004897981704\n",
      "Optimizing the Parameters ..... C = 0.5914291227611674, Gamma = 0.4327718101531607\n",
      "Optimizing the Parameters ..... C = 0.30580119280520357, Gamma = 0.2887960272357113\n",
      "Optimizing the Parameters ..... C = 0.1343397550871097, Gamma = 0.6724473243989602\n",
      "Optimizing the Parameters ..... C = 0.39357295832017414, Gamma = 0.7001077473285547\n",
      "Optimizing the Parameters ..... C = 0.7085551538792966, Gamma = 0.6385877495525368\n",
      "Optimizing the Parameters ..... C = 0.9283737498811758, Gamma = 0.12475240791914566\n",
      "Optimizing the Parameters ..... C = 0.22281129863450866, Gamma = 0.7251802801507922\n",
      "Optimizing the Parameters ..... C = 0.3433558647410224, Gamma = 0.6572767178228321\n",
      "Optimizing the Parameters ..... C = 0.4691891644414441, Gamma = 0.4188814271181941\n",
      "Optimizing the Parameters ..... C = 0.4660197291480078, Gamma = 0.6749584508191556\n",
      "Optimizing the Parameters ..... C = 0.9854618604460942, Gamma = 0.11366169294356154\n",
      "Optimizing the Parameters ..... C = 0.13479803933241352, Gamma = 0.35675220007261443\n",
      "Optimizing the Parameters ..... C = 0.1999210569910287, Gamma = 0.5754041828558427\n",
      "Optimizing the Parameters ..... C = 0.6993296762128316, Gamma = 0.6458340686213112\n",
      "Optimizing the Parameters ..... C = 0.04781153931369031, Gamma = 0.03299848950878048\n",
      "Optimizing the Parameters ..... C = 0.6957118566434738, Gamma = 0.7505894483771819\n",
      "Optimizing the Parameters ..... C = 0.3357967654112469, Gamma = 0.479435257086261\n",
      "Optimizing the Parameters ..... C = 0.41706071641846443, Gamma = 0.29415836784793203\n",
      "Optimizing the Parameters ..... C = 0.27387963654449266, Gamma = 0.32969309215827336\n",
      "Optimizing the Parameters ..... C = 0.8289819116520395, Gamma = 0.21618911152986997\n",
      "Optimizing the Parameters ..... C = 0.4084832653054229, Gamma = 0.23636365122689884\n",
      "Optimizing the Parameters ..... C = 0.7514992589537087, Gamma = 0.521354252760178\n",
      "Optimizing the Parameters ..... C = 0.7678392829447692, Gamma = 0.5139995053200624\n",
      "Optimizing the Parameters ..... C = 0.06479648816683792, Gamma = 0.5091356536759043\n",
      "Optimizing the Parameters ..... C = 0.5816608322072887, Gamma = 0.45692861841862076\n",
      "Optimizing the Parameters ..... C = 0.7627836766229602, Gamma = 0.10408307364596081\n",
      "Optimizing the Parameters ..... C = 0.3463688816662539, Gamma = 0.1439356564983617\n"
     ]
    },
    {
     "name": "stderr",
     "output_type": "stream",
     "text": [
      "\r",
      "pyswarms.single.global_best:   0%|          |0/1000"
     ]
    },
    {
     "name": "stdout",
     "output_type": "stream",
     "text": [
      "Optimizing the Parameters ..... C = 0.8549216855365214, Gamma = 0.11339924483159358\n",
      "Optimizing the Parameters ..... C = 0.9640667167211848, Gamma = 0.9053293683271366\n",
      "Optimizing the Parameters ..... C = 0.2721164597319151, Gamma = 0.06316648818508053\n",
      "Optimizing the Parameters ..... C = 0.8862296477654785, Gamma = 0.7606312939527624\n",
      "Optimizing the Parameters ..... C = 0.90395416651939, Gamma = 0.5333005161234853\n",
      "Optimizing the Parameters ..... C = 0.7196601376189734, Gamma = 0.051264086010061716\n",
      "Optimizing the Parameters ..... C = 0.5704820005462596, Gamma = 0.1870452356315634\n",
      "Optimizing the Parameters ..... C = 0.24597772148154384, Gamma = 0.22537437045168407\n",
      "Optimizing the Parameters ..... C = 0.9743265479814442, Gamma = 0.5765105726400291\n",
      "Optimizing the Parameters ..... C = 0.8696311997140574, Gamma = 0.511159362641093\n",
      "Optimizing the Parameters ..... C = 0.03446647004937664, Gamma = 0.8133001684442294\n",
      "Optimizing the Parameters ..... C = 0.8109076602600024, Gamma = 0.11946058251084057\n",
      "Optimizing the Parameters ..... C = 0.4466806644347696, Gamma = 0.6435722473265306\n",
      "Optimizing the Parameters ..... C = 0.4536619823936957, Gamma = 0.5869720158803511\n",
      "Optimizing the Parameters ..... C = 0.877376393270256, Gamma = 0.553508838221998\n",
      "Optimizing the Parameters ..... C = 0.5004925035220538, Gamma = 0.6025241541477552\n",
      "Optimizing the Parameters ..... C = 0.414022286765112, Gamma = 0.1401685392159061\n",
      "Optimizing the Parameters ..... C = 0.04448236510964165, Gamma = 0.8981321807562052\n",
      "Optimizing the Parameters ..... C = 0.14814434195905024, Gamma = 0.7920366983241683\n",
      "Optimizing the Parameters ..... C = 0.9447015201802026, Gamma = 0.2090033594030717\n",
      "Optimizing the Parameters ..... C = 0.8861533955227434, Gamma = 0.6306636697634519\n",
      "Optimizing the Parameters ..... C = 0.9273572714544609, Gamma = 0.635198468100333\n",
      "Optimizing the Parameters ..... C = 0.665835374831, Gamma = 0.03624087449103619\n",
      "Optimizing the Parameters ..... C = 0.7039045831785643, Gamma = 0.5942381572112525\n",
      "Optimizing the Parameters ..... C = 0.8470684109234519, Gamma = 0.5648838669729525\n",
      "Optimizing the Parameters ..... C = 0.46026949974185594, Gamma = 0.3909098497934155\n",
      "Optimizing the Parameters ..... C = 0.6701048590481867, Gamma = 0.8777528085243225\n",
      "Optimizing the Parameters ..... C = 0.7611045081260487, Gamma = 0.19165702354172465\n",
      "Optimizing the Parameters ..... C = 0.3428313653386116, Gamma = 0.3884949146076421\n",
      "Optimizing the Parameters ..... C = 0.6855087906134227, Gamma = 0.5831439480387064\n",
      "Optimizing the Parameters ..... C = 0.9667685868373015, Gamma = 0.846098168666916\n",
      "Optimizing the Parameters ..... C = 0.050566535732858076, Gamma = 0.6205237924608019\n",
      "Optimizing the Parameters ..... C = 0.277900279348098, Gamma = 0.47683574154728725\n",
      "Optimizing the Parameters ..... C = 0.5729930358540981, Gamma = 0.8365856083992624\n",
      "Optimizing the Parameters ..... C = 0.357637042112557, Gamma = 0.3947187126300329\n"
     ]
    },
    {
     "name": "stderr",
     "output_type": "stream",
     "text": [
      "\n"
     ]
    },
    {
     "ename": "ValueError",
     "evalue": "operands could not be broadcast together with shapes (100,2) (100,) ",
     "output_type": "error",
     "traceback": [
      "\u001b[0;31m---------------------------------------------------------------------------\u001b[0m",
      "\u001b[0;31mValueError\u001b[0m                                Traceback (most recent call last)",
      "\u001b[0;32m<ipython-input-132-5cca05dd4552>\u001b[0m in \u001b[0;36m<module>\u001b[0;34m\u001b[0m\n\u001b[1;32m      1\u001b[0m \u001b[0moptions\u001b[0m \u001b[0;34m=\u001b[0m \u001b[0;34m{\u001b[0m\u001b[0;34m'c1'\u001b[0m\u001b[0;34m:\u001b[0m \u001b[0;36m0.5\u001b[0m\u001b[0;34m,\u001b[0m \u001b[0;34m'c2'\u001b[0m\u001b[0;34m:\u001b[0m \u001b[0;36m0.3\u001b[0m\u001b[0;34m,\u001b[0m \u001b[0;34m'w'\u001b[0m\u001b[0;34m:\u001b[0m\u001b[0;36m0.9\u001b[0m\u001b[0;34m}\u001b[0m\u001b[0;34m\u001b[0m\u001b[0;34m\u001b[0m\u001b[0m\n\u001b[1;32m      2\u001b[0m \u001b[0moptimizer\u001b[0m \u001b[0;34m=\u001b[0m \u001b[0mps\u001b[0m\u001b[0;34m.\u001b[0m\u001b[0msingle\u001b[0m\u001b[0;34m.\u001b[0m\u001b[0mGlobalBestPSO\u001b[0m\u001b[0;34m(\u001b[0m\u001b[0mn_particles\u001b[0m\u001b[0;34m=\u001b[0m\u001b[0;36m100\u001b[0m\u001b[0;34m,\u001b[0m \u001b[0mdimensions\u001b[0m\u001b[0;34m=\u001b[0m\u001b[0;36m2\u001b[0m\u001b[0;34m,\u001b[0m \u001b[0moptions\u001b[0m\u001b[0;34m=\u001b[0m\u001b[0moptions\u001b[0m\u001b[0;34m)\u001b[0m\u001b[0;34m\u001b[0m\u001b[0;34m\u001b[0m\u001b[0m\n\u001b[0;32m----> 3\u001b[0;31m \u001b[0mgamma_opt\u001b[0m\u001b[0;34m,\u001b[0m \u001b[0mC_opt\u001b[0m \u001b[0;34m=\u001b[0m \u001b[0moptimizer\u001b[0m\u001b[0;34m.\u001b[0m\u001b[0moptimize\u001b[0m\u001b[0;34m(\u001b[0m\u001b[0mf\u001b[0m\u001b[0;34m,\u001b[0m \u001b[0miters\u001b[0m\u001b[0;34m=\u001b[0m\u001b[0;36m1000\u001b[0m\u001b[0;34m)\u001b[0m\u001b[0;34m\u001b[0m\u001b[0;34m\u001b[0m\u001b[0m\n\u001b[0m",
      "\u001b[0;32m~/.local/lib/python3.6/site-packages/pyswarms/single/global_best.py\u001b[0m in \u001b[0;36moptimize\u001b[0;34m(self, objective_func, iters, n_processes, **kwargs)\u001b[0m\n\u001b[1;32m    183\u001b[0m             \u001b[0;31m# fmt: off\u001b[0m\u001b[0;34m\u001b[0m\u001b[0;34m\u001b[0m\u001b[0;34m\u001b[0m\u001b[0m\n\u001b[1;32m    184\u001b[0m             \u001b[0mself\u001b[0m\u001b[0;34m.\u001b[0m\u001b[0mswarm\u001b[0m\u001b[0;34m.\u001b[0m\u001b[0mcurrent_cost\u001b[0m \u001b[0;34m=\u001b[0m \u001b[0mcompute_objective_function\u001b[0m\u001b[0;34m(\u001b[0m\u001b[0mself\u001b[0m\u001b[0;34m.\u001b[0m\u001b[0mswarm\u001b[0m\u001b[0;34m,\u001b[0m \u001b[0mobjective_func\u001b[0m\u001b[0;34m,\u001b[0m \u001b[0mpool\u001b[0m\u001b[0;34m=\u001b[0m\u001b[0mpool\u001b[0m\u001b[0;34m,\u001b[0m \u001b[0;34m**\u001b[0m\u001b[0mkwargs\u001b[0m\u001b[0;34m)\u001b[0m\u001b[0;34m\u001b[0m\u001b[0;34m\u001b[0m\u001b[0m\n\u001b[0;32m--> 185\u001b[0;31m             \u001b[0mself\u001b[0m\u001b[0;34m.\u001b[0m\u001b[0mswarm\u001b[0m\u001b[0;34m.\u001b[0m\u001b[0mpbest_pos\u001b[0m\u001b[0;34m,\u001b[0m \u001b[0mself\u001b[0m\u001b[0;34m.\u001b[0m\u001b[0mswarm\u001b[0m\u001b[0;34m.\u001b[0m\u001b[0mpbest_cost\u001b[0m \u001b[0;34m=\u001b[0m \u001b[0mcompute_pbest\u001b[0m\u001b[0;34m(\u001b[0m\u001b[0mself\u001b[0m\u001b[0;34m.\u001b[0m\u001b[0mswarm\u001b[0m\u001b[0;34m)\u001b[0m\u001b[0;34m\u001b[0m\u001b[0;34m\u001b[0m\u001b[0m\n\u001b[0m\u001b[1;32m    186\u001b[0m             \u001b[0;31m# Set best_cost_yet_found for ftol\u001b[0m\u001b[0;34m\u001b[0m\u001b[0;34m\u001b[0m\u001b[0;34m\u001b[0m\u001b[0m\n\u001b[1;32m    187\u001b[0m             \u001b[0mbest_cost_yet_found\u001b[0m \u001b[0;34m=\u001b[0m \u001b[0mself\u001b[0m\u001b[0;34m.\u001b[0m\u001b[0mswarm\u001b[0m\u001b[0;34m.\u001b[0m\u001b[0mbest_cost\u001b[0m\u001b[0;34m\u001b[0m\u001b[0;34m\u001b[0m\u001b[0m\n",
      "\u001b[0;32m~/.local/lib/python3.6/site-packages/pyswarms/backend/operators.py\u001b[0m in \u001b[0;36mcompute_pbest\u001b[0;34m(swarm)\u001b[0m\n\u001b[1;32m     64\u001b[0m         \u001b[0mdimensions\u001b[0m \u001b[0;34m=\u001b[0m \u001b[0mswarm\u001b[0m\u001b[0;34m.\u001b[0m\u001b[0mdimensions\u001b[0m\u001b[0;34m\u001b[0m\u001b[0;34m\u001b[0m\u001b[0m\n\u001b[1;32m     65\u001b[0m         \u001b[0;31m# Create a 1-D and 2-D mask based from comparisons\u001b[0m\u001b[0;34m\u001b[0m\u001b[0;34m\u001b[0m\u001b[0;34m\u001b[0m\u001b[0m\n\u001b[0;32m---> 66\u001b[0;31m         \u001b[0mmask_cost\u001b[0m \u001b[0;34m=\u001b[0m \u001b[0mswarm\u001b[0m\u001b[0;34m.\u001b[0m\u001b[0mcurrent_cost\u001b[0m \u001b[0;34m<\u001b[0m \u001b[0mswarm\u001b[0m\u001b[0;34m.\u001b[0m\u001b[0mpbest_cost\u001b[0m\u001b[0;34m\u001b[0m\u001b[0;34m\u001b[0m\u001b[0m\n\u001b[0m\u001b[1;32m     67\u001b[0m         \u001b[0mmask_pos\u001b[0m \u001b[0;34m=\u001b[0m \u001b[0mnp\u001b[0m\u001b[0;34m.\u001b[0m\u001b[0mrepeat\u001b[0m\u001b[0;34m(\u001b[0m\u001b[0mmask_cost\u001b[0m\u001b[0;34m[\u001b[0m\u001b[0;34m:\u001b[0m\u001b[0;34m,\u001b[0m \u001b[0mnp\u001b[0m\u001b[0;34m.\u001b[0m\u001b[0mnewaxis\u001b[0m\u001b[0;34m]\u001b[0m\u001b[0;34m,\u001b[0m \u001b[0mdimensions\u001b[0m\u001b[0;34m,\u001b[0m \u001b[0maxis\u001b[0m\u001b[0;34m=\u001b[0m\u001b[0;36m1\u001b[0m\u001b[0;34m)\u001b[0m\u001b[0;34m\u001b[0m\u001b[0;34m\u001b[0m\u001b[0m\n\u001b[1;32m     68\u001b[0m         \u001b[0;31m# Apply masks\u001b[0m\u001b[0;34m\u001b[0m\u001b[0;34m\u001b[0m\u001b[0;34m\u001b[0m\u001b[0m\n",
      "\u001b[0;31mValueError\u001b[0m: operands could not be broadcast together with shapes (100,2) (100,) "
     ]
    }
   ],
   "source": [
    "options = {'c1': 0.5, 'c2': 0.3, 'w':0.9}\n",
    "optimizer = ps.single.GlobalBestPSO(n_particles=100, dimensions=2, options=options)\n",
    "gamma_opt, C_opt = optimizer.optimize(f, iters=1000)"
   ]
  },
  {
   "cell_type": "code",
   "execution_count": 79,
   "metadata": {},
   "outputs": [],
   "source": [
    "# PARAMETER TUNING USING GRID SEARCH CV\n",
    "from sklearn.model_selection import GridSearchCV"
   ]
  },
  {
   "cell_type": "code",
   "execution_count": 80,
   "metadata": {},
   "outputs": [
    {
     "ename": "ValueError",
     "evalue": "bad input shape (117, 2)",
     "output_type": "error",
     "traceback": [
      "\u001b[0;31m---------------------------------------------------------------------------\u001b[0m",
      "\u001b[0;31mValueError\u001b[0m                                Traceback (most recent call last)",
      "\u001b[0;32m<ipython-input-80-f4afe2938967>\u001b[0m in \u001b[0;36m<module>\u001b[0;34m\u001b[0m\n\u001b[0;32m----> 1\u001b[0;31m \u001b[0mmodel2\u001b[0m \u001b[0;34m=\u001b[0m \u001b[0msvm\u001b[0m\u001b[0;34m.\u001b[0m\u001b[0mSVC\u001b[0m\u001b[0;34m(\u001b[0m\u001b[0mC\u001b[0m\u001b[0;34m=\u001b[0m\u001b[0;36m10\u001b[0m\u001b[0;34m,\u001b[0m \u001b[0mkernel\u001b[0m\u001b[0;34m=\u001b[0m\u001b[0;34m'rbf'\u001b[0m\u001b[0;34m,\u001b[0m \u001b[0mgamma\u001b[0m\u001b[0;34m=\u001b[0m\u001b[0;34m\"auto\"\u001b[0m\u001b[0;34m)\u001b[0m\u001b[0;34m.\u001b[0m\u001b[0mfit\u001b[0m\u001b[0;34m(\u001b[0m\u001b[0mx_train\u001b[0m\u001b[0;34m,\u001b[0m \u001b[0my_train\u001b[0m\u001b[0;34m)\u001b[0m\u001b[0;34m\u001b[0m\u001b[0;34m\u001b[0m\u001b[0m\n\u001b[0m\u001b[1;32m      2\u001b[0m \u001b[0mmodel2\u001b[0m\u001b[0;34m.\u001b[0m\u001b[0mscore\u001b[0m\u001b[0;34m(\u001b[0m\u001b[0mx_test\u001b[0m\u001b[0;34m,\u001b[0m \u001b[0my_test\u001b[0m\u001b[0;34m)\u001b[0m\u001b[0;34m\u001b[0m\u001b[0;34m\u001b[0m\u001b[0m\n",
      "\u001b[0;32m~/.local/lib/python3.6/site-packages/sklearn/svm/_base.py\u001b[0m in \u001b[0;36mfit\u001b[0;34m(self, X, y, sample_weight)\u001b[0m\n\u001b[1;32m    146\u001b[0m         X, y = check_X_y(X, y, dtype=np.float64,\n\u001b[1;32m    147\u001b[0m                          \u001b[0morder\u001b[0m\u001b[0;34m=\u001b[0m\u001b[0;34m'C'\u001b[0m\u001b[0;34m,\u001b[0m \u001b[0maccept_sparse\u001b[0m\u001b[0;34m=\u001b[0m\u001b[0;34m'csr'\u001b[0m\u001b[0;34m,\u001b[0m\u001b[0;34m\u001b[0m\u001b[0;34m\u001b[0m\u001b[0m\n\u001b[0;32m--> 148\u001b[0;31m                          accept_large_sparse=False)\n\u001b[0m\u001b[1;32m    149\u001b[0m         \u001b[0my\u001b[0m \u001b[0;34m=\u001b[0m \u001b[0mself\u001b[0m\u001b[0;34m.\u001b[0m\u001b[0m_validate_targets\u001b[0m\u001b[0;34m(\u001b[0m\u001b[0my\u001b[0m\u001b[0;34m)\u001b[0m\u001b[0;34m\u001b[0m\u001b[0;34m\u001b[0m\u001b[0m\n\u001b[1;32m    150\u001b[0m \u001b[0;34m\u001b[0m\u001b[0m\n",
      "\u001b[0;32m~/.local/lib/python3.6/site-packages/sklearn/utils/validation.py\u001b[0m in \u001b[0;36mcheck_X_y\u001b[0;34m(X, y, accept_sparse, accept_large_sparse, dtype, order, copy, force_all_finite, ensure_2d, allow_nd, multi_output, ensure_min_samples, ensure_min_features, y_numeric, warn_on_dtype, estimator)\u001b[0m\n\u001b[1;32m    758\u001b[0m                         dtype=None)\n\u001b[1;32m    759\u001b[0m     \u001b[0;32melse\u001b[0m\u001b[0;34m:\u001b[0m\u001b[0;34m\u001b[0m\u001b[0;34m\u001b[0m\u001b[0m\n\u001b[0;32m--> 760\u001b[0;31m         \u001b[0my\u001b[0m \u001b[0;34m=\u001b[0m \u001b[0mcolumn_or_1d\u001b[0m\u001b[0;34m(\u001b[0m\u001b[0my\u001b[0m\u001b[0;34m,\u001b[0m \u001b[0mwarn\u001b[0m\u001b[0;34m=\u001b[0m\u001b[0;32mTrue\u001b[0m\u001b[0;34m)\u001b[0m\u001b[0;34m\u001b[0m\u001b[0;34m\u001b[0m\u001b[0m\n\u001b[0m\u001b[1;32m    761\u001b[0m         \u001b[0m_assert_all_finite\u001b[0m\u001b[0;34m(\u001b[0m\u001b[0my\u001b[0m\u001b[0;34m)\u001b[0m\u001b[0;34m\u001b[0m\u001b[0;34m\u001b[0m\u001b[0m\n\u001b[1;32m    762\u001b[0m     \u001b[0;32mif\u001b[0m \u001b[0my_numeric\u001b[0m \u001b[0;32mand\u001b[0m \u001b[0my\u001b[0m\u001b[0;34m.\u001b[0m\u001b[0mdtype\u001b[0m\u001b[0;34m.\u001b[0m\u001b[0mkind\u001b[0m \u001b[0;34m==\u001b[0m \u001b[0;34m'O'\u001b[0m\u001b[0;34m:\u001b[0m\u001b[0;34m\u001b[0m\u001b[0;34m\u001b[0m\u001b[0m\n",
      "\u001b[0;32m~/.local/lib/python3.6/site-packages/sklearn/utils/validation.py\u001b[0m in \u001b[0;36mcolumn_or_1d\u001b[0;34m(y, warn)\u001b[0m\n\u001b[1;32m    795\u001b[0m         \u001b[0;32mreturn\u001b[0m \u001b[0mnp\u001b[0m\u001b[0;34m.\u001b[0m\u001b[0mravel\u001b[0m\u001b[0;34m(\u001b[0m\u001b[0my\u001b[0m\u001b[0;34m)\u001b[0m\u001b[0;34m\u001b[0m\u001b[0;34m\u001b[0m\u001b[0m\n\u001b[1;32m    796\u001b[0m \u001b[0;34m\u001b[0m\u001b[0m\n\u001b[0;32m--> 797\u001b[0;31m     \u001b[0;32mraise\u001b[0m \u001b[0mValueError\u001b[0m\u001b[0;34m(\u001b[0m\u001b[0;34m\"bad input shape {0}\"\u001b[0m\u001b[0;34m.\u001b[0m\u001b[0mformat\u001b[0m\u001b[0;34m(\u001b[0m\u001b[0mshape\u001b[0m\u001b[0;34m)\u001b[0m\u001b[0;34m)\u001b[0m\u001b[0;34m\u001b[0m\u001b[0;34m\u001b[0m\u001b[0m\n\u001b[0m\u001b[1;32m    798\u001b[0m \u001b[0;34m\u001b[0m\u001b[0m\n\u001b[1;32m    799\u001b[0m \u001b[0;34m\u001b[0m\u001b[0m\n",
      "\u001b[0;31mValueError\u001b[0m: bad input shape (117, 2)"
     ]
    }
   ],
   "source": [
    "model2 = svm.SVC(C=10, kernel='rbf', gamma=\"auto\").fit(x_train, y_train)\n",
    "model2.score(x_test, y_test)"
   ]
  },
  {
   "cell_type": "code",
   "execution_count": null,
   "metadata": {},
   "outputs": [],
   "source": [
    "parameters = {'kernel':('rbf','linear'), 'C':range(3,100)}\n",
    "svc = svm.SVC(gamma=\"auto\")\n",
    "clf = GridSearchCV(svc, parameters, cv=5)"
   ]
  },
  {
   "cell_type": "code",
   "execution_count": null,
   "metadata": {},
   "outputs": [],
   "source": [
    "#solo\n",
    "parameters = {'C':range(1,1000)}\n",
    "svc = svm.SVC(gamma=\"auto\", kernel='linear')\n",
    "clf = GridSearchCV(svc, parameters, cv=5)"
   ]
  },
  {
   "cell_type": "code",
   "execution_count": null,
   "metadata": {},
   "outputs": [],
   "source": [
    "clf.fit(x_train, y_train)"
   ]
  },
  {
   "cell_type": "code",
   "execution_count": null,
   "metadata": {},
   "outputs": [],
   "source": [
    "sorted(clf.cv_results_.keys())"
   ]
  },
  {
   "cell_type": "code",
   "execution_count": null,
   "metadata": {},
   "outputs": [],
   "source": [
    "y_pred = clf.predict(x_test)"
   ]
  },
  {
   "cell_type": "code",
   "execution_count": null,
   "metadata": {},
   "outputs": [],
   "source": [
    "x_test.shape"
   ]
  },
  {
   "cell_type": "code",
   "execution_count": null,
   "metadata": {},
   "outputs": [],
   "source": [
    "clf.best_params_"
   ]
  },
  {
   "cell_type": "code",
   "execution_count": null,
   "metadata": {},
   "outputs": [],
   "source": [
    "clf.predict"
   ]
  },
  {
   "cell_type": "code",
   "execution_count": 6,
   "metadata": {},
   "outputs": [],
   "source": [
    "# LOGISTIC REGRESSION\n",
    "from sklearn.linear_model import LogisticRegression"
   ]
  },
  {
   "cell_type": "code",
   "execution_count": 7,
   "metadata": {},
   "outputs": [
    {
     "data": {
      "text/plain": [
       "Index(['name', 'MDVP:Fo(Hz)', 'MDVP:Fhi(Hz)', 'MDVP:Flo(Hz)', 'MDVP:Jitter(%)',\n",
       "       'MDVP:Jitter(Abs)', 'MDVP:RAP', 'MDVP:PPQ', 'Jitter:DDP',\n",
       "       'MDVP:Shimmer', 'MDVP:Shimmer(dB)', 'Shimmer:APQ3', 'Shimmer:APQ5',\n",
       "       'MDVP:APQ', 'Shimmer:DDA', 'NHR', 'HNR', 'status', 'RPDE', 'DFA',\n",
       "       'spread1', 'spread2', 'D2', 'PPE'],\n",
       "      dtype='object')"
      ]
     },
     "execution_count": 7,
     "metadata": {},
     "output_type": "execute_result"
    }
   ],
   "source": [
    "x = data.drop(columns=['name', 'status'])\n",
    "y = data['status']\n",
    "data.columns"
   ]
  },
  {
   "cell_type": "code",
   "execution_count": null,
   "metadata": {},
   "outputs": [],
   "source": [
    "# four best features as per mid sems\n",
    "x = data[['HNR','RPDE','DFA','PPE']]\n",
    "x.shape\n",
    "\n",
    "# set 1 as per correlation coeff -> 83.58% training, 78.46% testing\n",
    "x = data[['MDVP:PPQ','MDVP:Shimmer', 'MDVP:Shimmer(dB)',\n",
    "          'Shimmer:APQ3', 'Shimmer:APQ5','MDVP:APQ','Shimmer:DDA']]\n",
    "x.shape"
   ]
  },
  {
   "cell_type": "code",
   "execution_count": 8,
   "metadata": {},
   "outputs": [],
   "source": [
    "# 60% training set and 40% testing set\n",
    "x_train, x_test, y_train, y_test = model_selection.train_test_split (x, y, random_state=0)"
   ]
  },
  {
   "cell_type": "code",
   "execution_count": null,
   "metadata": {},
   "outputs": [],
   "source": [
    "clf = LogisticRegression(random_state=0).fit(x_train, y_train)"
   ]
  },
  {
   "cell_type": "code",
   "execution_count": null,
   "metadata": {},
   "outputs": [],
   "source": [
    "clf.score(x_test, y_test)"
   ]
  }
 ],
 "metadata": {
  "kernelspec": {
   "display_name": "Python 3",
   "language": "python",
   "name": "python3"
  },
  "language_info": {
   "codemirror_mode": {
    "name": "ipython",
    "version": 3
   },
   "file_extension": ".py",
   "mimetype": "text/x-python",
   "name": "python",
   "nbconvert_exporter": "python",
   "pygments_lexer": "ipython3",
   "version": "3.6.9"
  }
 },
 "nbformat": 4,
 "nbformat_minor": 2
}
